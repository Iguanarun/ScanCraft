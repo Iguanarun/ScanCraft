{
 "cells": [
  {
   "cell_type": "code",
   "execution_count": 6,
   "metadata": {},
   "outputs": [],
   "source": [
    "import sys,pandas\n",
    "sys.path.append('/home/heyangle/Desktop/ScanCraft/ScanCraft')\n",
    "from command.read.readSLHA import ReadFiles\n",
    "data=pandas.DataFrame({})"
   ]
  },
  {
   "cell_type": "code",
   "execution_count": 8,
   "metadata": {},
   "outputs": [],
   "source": [
    "spectr=ReadFiles('GsphenoInput.txt.3680')"
   ]
  },
  {
   "cell_type": "code",
   "execution_count": 22,
   "metadata": {},
   "outputs": [
    {
     "data": {
      "text/plain": [
       "dict_items([('DECAY', {}), ('MODSEL', {}), ('SMINPUTS', {}), ('MSOFTIN', {1: 400.0, 2: 800.0, 3: 2400.0}), ('MINPAR', {3: 3.418184}), ('EXTPAR', {65: 248.3656}), ('NMSSMRUNIN', {1: 0.62712, 2: 0.2287903, 3: 495.2611, 4: -56.09549}), ('SPHENOINPUT', {}), ('DECAYOPTIONS', {}), ('MSD2IN', {(1, 1): 4000000.0, (1, 2): 0.0, (1, 3): 0.0, (2, 1): 0.0, (2, 2): 4000000.0, (2, 3): 0.0, (3, 1): 0.0, (3, 2): 0.0, (3, 3): 1000000.0}), ('MSE2IN', {(1, 1): 160000.0, (1, 2): 0.0, (1, 3): 0.0, (2, 1): 0.0, (2, 2): 160000.0, (2, 3): 0.0, (3, 1): 0.0, (3, 2): 0.0, (3, 3): 160000.0}), ('MSL2IN', {(1, 1): 160000.0, (1, 2): 0.0, (1, 3): 0.0, (2, 1): 0.0, (2, 2): 160000.0, (2, 3): 0.0, (3, 1): 0.0, (3, 2): 0.0, (3, 3): 160000.0}), ('MSQ2IN', {(1, 1): 4000000.0, (1, 2): 0.0, (1, 3): 0.0, (2, 1): 0.0, (2, 2): 4000000.0, (2, 3): 0.0, (3, 1): 0.0, (3, 2): 0.0, (3, 3): 1000000.0}), ('MSU2IN', {(1, 1): 4000000.0, (1, 2): 0.0, (1, 3): 0.0, (2, 1): 0.0, (2, 2): 4000000.0, (2, 3): 0.0, (3, 1): 0.0, (3, 2): 0.0, (3, 3): 1000000.0}), ('MV2IN', {}), ('YVIN', {}), ('LAMNIN', {(1, 1): 1e-06, (1, 2): 0.0, (1, 3): 0.0, (2, 1): 0.0, (2, 2): 1e-06, (2, 3): 0.0, (3, 1): 0.0, (3, 2): 0.0, (3, 3): 1e-06}), ('TDIN', {(1, 1): 0.0, (1, 2): 0.0, (1, 3): 0.0, (2, 1): 0.0, (2, 2): 0.0, (2, 3): 0.0, (3, 1): 0.0, (3, 2): 0.0, (3, 3): -3871.49}), ('TEIN', {(1, 1): 0.0, (1, 2): 0.0, (1, 3): 0.0, (2, 1): 0.0, (2, 2): 0.0, (2, 3): 0.0, (3, 1): 0.0, (3, 2): 0.0, (3, 3): 156.0224}), ('TUIN', {(1, 1): 0.0, (1, 2): 0.0, (1, 3): 0.0, (2, 1): 0.0, (2, 2): 0.0, (2, 3): 0.0, (3, 1): 0.0, (3, 2): 0.0, (3, 3): -1632.84}), ('TVIN', {}), ('TLAMNIN', {}), ('_a', 1)])"
      ]
     },
     "execution_count": 22,
     "metadata": {},
     "output_type": "execute_result"
    }
   ],
   "source": [
    "spectr.__dict__.items()"
   ]
  },
  {
   "cell_type": "code",
   "execution_count": 15,
   "metadata": {},
   "outputs": [
    {
     "data": {
      "text/plain": [
       "'a->'"
      ]
     },
     "execution_count": 15,
     "metadata": {},
     "output_type": "execute_result"
    }
   ],
   "source": [
    "s='a->'\n",
    "s"
   ]
  },
  {
   "cell_type": "code",
   "execution_count": 27,
   "metadata": {},
   "outputs": [
    {
     "name": "stdout",
     "output_type": "stream",
     "text": [
      "{}\n"
     ]
    },
    {
     "data": {
      "text/plain": [
       "{'a': 1}"
      ]
     },
     "execution_count": 27,
     "metadata": {},
     "output_type": "execute_result"
    }
   ],
   "source": [
    "from command.forge.format import capsule\n",
    "cps=capsule()\n",
    "print(cps.__dict__)\n",
    "cps.a=1\n",
    "cps.__dict__"
   ]
  },
  {
   "cell_type": "code",
   "execution_count": 30,
   "metadata": {},
   "outputs": [
    {
     "data": {
      "text/plain": [
       "2"
      ]
     },
     "execution_count": 30,
     "metadata": {},
     "output_type": "execute_result"
    }
   ],
   "source": [
    "setattr(cps,'a',2)\n",
    "cps.a"
   ]
  },
  {
   "cell_type": "code",
   "execution_count": 2,
   "metadata": {},
   "outputs": [],
   "source": [
    "class par_list():\n",
    "    pass\n",
    "a=par_list()\n",
    "a.name='t'"
   ]
  },
  {
   "cell_type": "code",
   "execution_count": 3,
   "metadata": {},
   "outputs": [
    {
     "data": {
      "text/plain": [
       "__main__.par_list"
      ]
     },
     "execution_count": 3,
     "metadata": {},
     "output_type": "execute_result"
    }
   ],
   "source": [
    "type(a)"
   ]
  },
  {
   "cell_type": "code",
   "execution_count": 4,
   "metadata": {},
   "outputs": [
    {
     "data": {
      "text/plain": [
       "True"
      ]
     },
     "execution_count": 4,
     "metadata": {},
     "output_type": "execute_result"
    }
   ],
   "source": [
    "type(a) is par_list"
   ]
  },
  {
   "cell_type": "code",
   "execution_count": 7,
   "metadata": {},
   "outputs": [
    {
     "data": {
      "text/plain": [
       "\"<class '__main__.par_list'>\""
      ]
     },
     "execution_count": 7,
     "metadata": {},
     "output_type": "execute_result"
    }
   ],
   "source": [
    "str(type(a))"
   ]
  },
  {
   "cell_type": "code",
   "execution_count": 82,
   "metadata": {},
   "outputs": [
    {
     "ename": "SyntaxError",
     "evalue": "invalid character in identifier (<ipython-input-82-3d52e058de5d>, line 13)",
     "output_type": "error",
     "traceback": [
      "\u001b[0;36m  File \u001b[0;32m\"<ipython-input-82-3d52e058de5d>\"\u001b[0;36m, line \u001b[0;32m13\u001b[0m\n\u001b[0;31m    return '_'.join(flat_to_str([self.name,element])）\u001b[0m\n\u001b[0m                                                    ^\u001b[0m\n\u001b[0;31mSyntaxError\u001b[0m\u001b[0;31m:\u001b[0m invalid character in identifier\n"
     ]
    }
   ],
   "source": [
    "flat_to_str=lambda L: sum(map(flat_to_str,L),[]) if isinstance(L,(list,tuple)) else [str(L)]\n",
    "\n",
    "class list_block():\n",
    "    def __init__(self,PDG_name_dict):\n",
    "        self.PDG_name_dict=PDG_name_dict\n",
    "    def __call__(self,number):\n",
    "        return self.PDG_name_dict[number]\n",
    "            \n",
    "class matrix_block():\n",
    "    def __init__(self,name):\n",
    "        self.name=name\n",
    "    def __call__(self,*element):\n",
    "        return '_'.join(flat_to_str([self.name,element]))\n",
    "        \n",
    "\n",
    "class SLHA():\n",
    "    MNPAR=list_block({3:'tanB'})\n",
    "    HMIX=matrix_block('Hmix')"
   ]
  },
  {
   "cell_type": "code",
   "execution_count": 65,
   "metadata": {},
   "outputs": [],
   "source": [
    "\n"
   ]
  },
  {
   "cell_type": "code",
   "execution_count": 74,
   "metadata": {},
   "outputs": [
    {
     "ename": "TypeError",
     "evalue": "<lambda>() takes 1 positional argument but 2 were given",
     "output_type": "error",
     "traceback": [
      "\u001b[0;31m---------------------------------------------------------------------------\u001b[0m",
      "\u001b[0;31mTypeError\u001b[0m                                 Traceback (most recent call last)",
      "\u001b[0;32m<ipython-input-74-ed82b1c9af29>\u001b[0m in \u001b[0;36m<module>\u001b[0;34m()\u001b[0m\n\u001b[0;32m----> 1\u001b[0;31m \u001b[0mSLHA\u001b[0m\u001b[0;34m.\u001b[0m\u001b[0mHMIX\u001b[0m\u001b[0;34m(\u001b[0m\u001b[0;34m(\u001b[0m\u001b[0;36m1\u001b[0m\u001b[0;34m,\u001b[0m\u001b[0;36m2\u001b[0m\u001b[0;34m)\u001b[0m\u001b[0;34m)\u001b[0m\u001b[0;34m\u001b[0m\u001b[0m\n\u001b[0m",
      "\u001b[0;32m<ipython-input-73-fb68d300d47c>\u001b[0m in \u001b[0;36m__call__\u001b[0;34m(self, *element)\u001b[0m\n\u001b[1;32m     11\u001b[0m         \u001b[0mself\u001b[0m\u001b[0;34m.\u001b[0m\u001b[0mname\u001b[0m\u001b[0;34m=\u001b[0m\u001b[0mname\u001b[0m\u001b[0;34m\u001b[0m\u001b[0m\n\u001b[1;32m     12\u001b[0m     \u001b[0;32mdef\u001b[0m \u001b[0m__call__\u001b[0m\u001b[0;34m(\u001b[0m\u001b[0mself\u001b[0m\u001b[0;34m,\u001b[0m\u001b[0;34m*\u001b[0m\u001b[0melement\u001b[0m\u001b[0;34m)\u001b[0m\u001b[0;34m:\u001b[0m\u001b[0;34m\u001b[0m\u001b[0m\n\u001b[0;32m---> 13\u001b[0;31m         \u001b[0;32mreturn\u001b[0m \u001b[0;34m'_'\u001b[0m\u001b[0;34m.\u001b[0m\u001b[0mjoin\u001b[0m\u001b[0;34m(\u001b[0m\u001b[0mflat_to_str\u001b[0m\u001b[0;34m(\u001b[0m\u001b[0mself\u001b[0m\u001b[0;34m.\u001b[0m\u001b[0mname\u001b[0m\u001b[0;34m,\u001b[0m\u001b[0melement\u001b[0m\u001b[0;34m)\u001b[0m\u001b[0;34m)\u001b[0m\u001b[0;34m\u001b[0m\u001b[0m\n\u001b[0m\u001b[1;32m     14\u001b[0m \u001b[0;34m\u001b[0m\u001b[0m\n\u001b[1;32m     15\u001b[0m \u001b[0;34m\u001b[0m\u001b[0m\n",
      "\u001b[0;31mTypeError\u001b[0m: <lambda>() takes 1 positional argument but 2 were given"
     ]
    }
   ],
   "source": [
    "SLHA.HMIX((1,2))"
   ]
  },
  {
   "cell_type": "code",
   "execution_count": 79,
   "metadata": {},
   "outputs": [
    {
     "data": {
      "text/plain": [
       "['H', '1', '2']"
      ]
     },
     "execution_count": 79,
     "metadata": {},
     "output_type": "execute_result"
    }
   ],
   "source": [
    "flat_to_str(['H',(1,2)])"
   ]
  },
  {
   "cell_type": "code",
   "execution_count": 80,
   "metadata": {},
   "outputs": [
    {
     "name": "stdout",
     "output_type": "stream",
     "text": [
      "('a',)\n"
     ]
    }
   ],
   "source": [
    "def f(*a):\n",
    "    print(a)\n",
    "f('a')"
   ]
  },
  {
   "cell_type": "code",
   "execution_count": null,
   "metadata": {},
   "outputs": [],
   "source": []
  }
 ],
 "metadata": {
  "kernelspec": {
   "display_name": "Python 3",
   "language": "python",
   "name": "python3"
  },
  "language_info": {
   "codemirror_mode": {
    "name": "ipython",
    "version": 3
   },
   "file_extension": ".py",
   "mimetype": "text/x-python",
   "name": "python",
   "nbconvert_exporter": "python",
   "pygments_lexer": "ipython3",
   "version": "3.6.3"
  }
 },
 "nbformat": 4,
 "nbformat_minor": 2
}
