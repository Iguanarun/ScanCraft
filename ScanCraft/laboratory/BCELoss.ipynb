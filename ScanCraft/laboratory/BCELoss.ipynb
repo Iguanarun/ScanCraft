{
 "cells": [
  {
   "cell_type": "code",
   "execution_count": 1,
   "metadata": {},
   "outputs": [],
   "source": [
    "import numpy,pandas"
   ]
  },
  {
   "cell_type": "code",
   "execution_count": 3,
   "metadata": {},
   "outputs": [],
   "source": [
    "test1=numpy.load('./Pylon/data1.npy')\n",
    "test2=numpy.load('./Pylon/data2.npy')\n",
    "test3=numpy.load('./Pylon/data3.npy')\n",
    "test=numpy.concatenate((test1,test2,test3))"
   ]
  },
  {
   "cell_type": "code",
   "execution_count": 57,
   "metadata": {},
   "outputs": [],
   "source": [
    "acc=pandas.read_csv('Pylon/accepted.csv',header=[0,1,2,3],index_col=0)\n",
    "exc=pandas.read_csv('Pylon/excluded.csv',header=[0,1,2,3],index_col=0)\n",
    "data=numpy.concatenate((acc.values,exc.values))[:3000,:]"
   ]
  },
  {
   "cell_type": "code",
   "execution_count": 58,
   "metadata": {},
   "outputs": [
    {
     "name": "stdout",
     "output_type": "stream",
     "text": [
      "(1392, 13) (3000, 13)\n"
     ]
    }
   ],
   "source": [
    "print(acc.shape,data.shape)"
   ]
  },
  {
   "cell_type": "code",
   "execution_count": 59,
   "metadata": {},
   "outputs": [
    {
     "data": {
      "text/plain": [
       "3000"
      ]
     },
     "execution_count": 59,
     "metadata": {},
     "output_type": "execute_result"
    }
   ],
   "source": [
    "lenth=data.shape[0];lenth"
   ]
  },
  {
   "cell_type": "code",
   "execution_count": 60,
   "metadata": {},
   "outputs": [],
   "source": [
    "normalize=numpy.linalg.inv(numpy.diag([60,1e3,2e3,6e3,2e3,2e3,2e3,1,1,3e3,3e3,1500]))"
   ]
  },
  {
   "cell_type": "code",
   "execution_count": 61,
   "metadata": {},
   "outputs": [],
   "source": [
    "data[:,:-1]=data[:,:-1].dot(normalize)"
   ]
  },
  {
   "cell_type": "code",
   "execution_count": 62,
   "metadata": {},
   "outputs": [
    {
     "data": {
      "text/plain": [
       "array([[ 0.17597688,  0.99037586,  0.58978462, ..., -0.90874412,\n",
       "         0.19598302,  1.        ],\n",
       "       [ 0.80411889,  0.99196261,  0.34157178, ..., -0.70621409,\n",
       "         0.52246643,  1.        ],\n",
       "       [ 0.21528336,  0.37404653,  0.38910384, ..., -0.37486843,\n",
       "         0.62616036,  1.        ],\n",
       "       ..., \n",
       "       [ 0.90410588,  0.47547668,  0.62609546, ..., -0.82132573,\n",
       "         0.73818866,  0.        ],\n",
       "       [ 0.09211003,  0.838369  ,  0.64216156, ..., -0.75302015,\n",
       "         0.2442311 ,  0.        ],\n",
       "       [ 0.27909031,  0.28071636,  0.08477074, ..., -0.46059645,\n",
       "         0.49917858,  0.        ]])"
      ]
     },
     "execution_count": 62,
     "metadata": {},
     "output_type": "execute_result"
    }
   ],
   "source": [
    "data"
   ]
  },
  {
   "cell_type": "code",
   "execution_count": 63,
   "metadata": {},
   "outputs": [
    {
     "data": {
      "text/plain": [
       "[0.99965281555857743,\n",
       " 0.99967457937608772,\n",
       " 0.99999342834140459,\n",
       " 0.99983595247876178,\n",
       " 0.99997544401075944,\n",
       " 0.99953431507382762,\n",
       " 0.99963666907501636,\n",
       " 0.98566412588656238,\n",
       " 0.95123335909411955,\n",
       " 0.99975230683800775,\n",
       " 0.99928923439601569,\n",
       " 0.99968458674326188,\n",
       " 1.0]"
      ]
     },
     "execution_count": 63,
     "metadata": {},
     "output_type": "execute_result"
    }
   ],
   "source": [
    "[max(data[:,i]) for i in range(13)]"
   ]
  },
  {
   "cell_type": "code",
   "execution_count": 64,
   "metadata": {},
   "outputs": [],
   "source": [
    "import torch\n",
    "from torch.autograd import Variable\n",
    "from torch import nn\n",
    "bce=nn.BCEWithLogitsLoss()\n",
    "in_data=Variable(torch.FloatTensor(data[:,:-1]).cuda())\n",
    "target=Variable(torch.FloatTensor(data[:,-1].reshape(lenth,1)).cuda())"
   ]
  },
  {
   "cell_type": "code",
   "execution_count": 65,
   "metadata": {},
   "outputs": [
    {
     "data": {
      "text/plain": [
       "Variable containing:\n",
       " 1392\n",
       "[torch.cuda.FloatTensor of size 1 (GPU 0)]"
      ]
     },
     "execution_count": 65,
     "metadata": {},
     "output_type": "execute_result"
    }
   ],
   "source": [
    "sum(target)"
   ]
  },
  {
   "cell_type": "code",
   "execution_count": 66,
   "metadata": {},
   "outputs": [],
   "source": [
    "class model(nn.Module):\n",
    "    def __init__(self):\n",
    "        super(Model, self).__init__()\n",
    "        self."
   ]
  },
  {
   "cell_type": "code",
   "execution_count": 152,
   "metadata": {},
   "outputs": [],
   "source": [
    "model=torch.nn.Sequential(\n",
    "    torch.nn.Linear(12,1000),\n",
    "    torch.nn.Linear(1000,1000),\n",
    "#     torch.nn.ReLU(),\n",
    "    torch.nn.Linear(1000,200),\n",
    "    torch.nn.Linear(200,200),\n",
    "    torch.nn.ReLU(),\n",
    "    torch.nn.Linear(200,10),\n",
    "    torch.nn.Linear(10,1),\n",
    "    torch.nn.Sigmoid()\n",
    ").cuda()"
   ]
  },
  {
   "cell_type": "code",
   "execution_count": 155,
   "metadata": {
    "scrolled": true
   },
   "outputs": [
    {
     "name": "stdout",
     "output_type": "stream",
     "text": [
      "0 Variable containing:\n",
      " 0.5710\n",
      "[torch.cuda.FloatTensor of size 1 (GPU 0)]\n",
      "\n",
      "100 Variable containing:\n",
      " 0.5706\n",
      "[torch.cuda.FloatTensor of size 1 (GPU 0)]\n",
      "\n",
      "200 Variable containing:\n",
      " 0.5700\n",
      "[torch.cuda.FloatTensor of size 1 (GPU 0)]\n",
      "\n",
      "300 Variable containing:\n",
      " 0.5695\n",
      "[torch.cuda.FloatTensor of size 1 (GPU 0)]\n",
      "\n",
      "400 Variable containing:\n",
      " 0.5689\n",
      "[torch.cuda.FloatTensor of size 1 (GPU 0)]\n",
      "\n",
      "500 Variable containing:\n",
      " 0.5685\n",
      "[torch.cuda.FloatTensor of size 1 (GPU 0)]\n",
      "\n",
      "600 Variable containing:\n",
      " 0.5681\n",
      "[torch.cuda.FloatTensor of size 1 (GPU 0)]\n",
      "\n",
      "700 Variable containing:\n",
      " 0.5677\n",
      "[torch.cuda.FloatTensor of size 1 (GPU 0)]\n",
      "\n",
      "800 Variable containing:\n",
      " 0.5673\n",
      "[torch.cuda.FloatTensor of size 1 (GPU 0)]\n",
      "\n",
      "900 Variable containing:\n",
      " 0.5671\n",
      "[torch.cuda.FloatTensor of size 1 (GPU 0)]\n",
      "\n",
      "1000 Variable containing:\n",
      " 0.5666\n",
      "[torch.cuda.FloatTensor of size 1 (GPU 0)]\n",
      "\n",
      "1100 Variable containing:\n",
      " 0.5667\n",
      "[torch.cuda.FloatTensor of size 1 (GPU 0)]\n",
      "\n",
      "1200 Variable containing:\n",
      " 0.5662\n",
      "[torch.cuda.FloatTensor of size 1 (GPU 0)]\n",
      "\n",
      "1300 Variable containing:\n",
      " 0.5659\n",
      "[torch.cuda.FloatTensor of size 1 (GPU 0)]\n",
      "\n",
      "1400 Variable containing:\n",
      " 0.5656\n",
      "[torch.cuda.FloatTensor of size 1 (GPU 0)]\n",
      "\n",
      "1500 Variable containing:\n",
      " 0.5654\n",
      "[torch.cuda.FloatTensor of size 1 (GPU 0)]\n",
      "\n",
      "1600 Variable containing:\n",
      " 0.5650\n",
      "[torch.cuda.FloatTensor of size 1 (GPU 0)]\n",
      "\n",
      "1700 Variable containing:\n",
      " 0.5650\n",
      "[torch.cuda.FloatTensor of size 1 (GPU 0)]\n",
      "\n",
      "1800 Variable containing:\n",
      " 0.5647\n",
      "[torch.cuda.FloatTensor of size 1 (GPU 0)]\n",
      "\n",
      "1900 Variable containing:\n",
      " 0.5645\n",
      "[torch.cuda.FloatTensor of size 1 (GPU 0)]\n",
      "\n",
      "2000 Variable containing:\n",
      " 0.5645\n",
      "[torch.cuda.FloatTensor of size 1 (GPU 0)]\n",
      "\n",
      "2100 Variable containing:\n",
      " 0.5642\n",
      "[torch.cuda.FloatTensor of size 1 (GPU 0)]\n",
      "\n",
      "2200 Variable containing:\n",
      " 0.5640\n",
      "[torch.cuda.FloatTensor of size 1 (GPU 0)]\n",
      "\n",
      "2300 Variable containing:\n",
      " 0.5639\n",
      "[torch.cuda.FloatTensor of size 1 (GPU 0)]\n",
      "\n",
      "2400 Variable containing:\n",
      " 0.5638\n",
      "[torch.cuda.FloatTensor of size 1 (GPU 0)]\n",
      "\n",
      "2500 Variable containing:\n",
      " 0.5637\n",
      "[torch.cuda.FloatTensor of size 1 (GPU 0)]\n",
      "\n",
      "2600 Variable containing:\n",
      " 0.5634\n",
      "[torch.cuda.FloatTensor of size 1 (GPU 0)]\n",
      "\n",
      "2700 Variable containing:\n",
      " 0.5636\n",
      "[torch.cuda.FloatTensor of size 1 (GPU 0)]\n",
      "\n",
      "2800 Variable containing:\n",
      " 0.5626\n",
      "[torch.cuda.FloatTensor of size 1 (GPU 0)]\n",
      "\n",
      "2900 Variable containing:\n",
      " 0.5635\n",
      "[torch.cuda.FloatTensor of size 1 (GPU 0)]\n",
      "\n",
      "3000 Variable containing:\n",
      " 0.5620\n",
      "[torch.cuda.FloatTensor of size 1 (GPU 0)]\n",
      "\n",
      "3100 Variable containing:\n",
      " 0.5637\n",
      "[torch.cuda.FloatTensor of size 1 (GPU 0)]\n",
      "\n",
      "3200 Variable containing:\n",
      " 0.5648\n",
      "[torch.cuda.FloatTensor of size 1 (GPU 0)]\n",
      "\n",
      "3300 Variable containing:\n",
      " 0.5634\n",
      "[torch.cuda.FloatTensor of size 1 (GPU 0)]\n",
      "\n",
      "3400 Variable containing:\n",
      " 0.5624\n",
      "[torch.cuda.FloatTensor of size 1 (GPU 0)]\n",
      "\n",
      "3500 Variable containing:\n",
      " 0.5614\n",
      "[torch.cuda.FloatTensor of size 1 (GPU 0)]\n",
      "\n",
      "3600 Variable containing:\n",
      " 0.5612\n",
      "[torch.cuda.FloatTensor of size 1 (GPU 0)]\n",
      "\n",
      "3700 Variable containing:\n",
      " 0.5611\n",
      "[torch.cuda.FloatTensor of size 1 (GPU 0)]\n",
      "\n",
      "3800 Variable containing:\n",
      " 0.5610\n",
      "[torch.cuda.FloatTensor of size 1 (GPU 0)]\n",
      "\n",
      "3900 Variable containing:\n",
      " 0.5609\n",
      "[torch.cuda.FloatTensor of size 1 (GPU 0)]\n",
      "\n",
      "4000 Variable containing:\n",
      " 0.5608\n",
      "[torch.cuda.FloatTensor of size 1 (GPU 0)]\n",
      "\n",
      "4100 Variable containing:\n",
      " 0.5607\n",
      "[torch.cuda.FloatTensor of size 1 (GPU 0)]\n",
      "\n",
      "4200 Variable containing:\n",
      " 0.5606\n",
      "[torch.cuda.FloatTensor of size 1 (GPU 0)]\n",
      "\n",
      "4300 Variable containing:\n",
      " 0.5611\n",
      "[torch.cuda.FloatTensor of size 1 (GPU 0)]\n",
      "\n",
      "4400 Variable containing:\n",
      " 0.5642\n",
      "[torch.cuda.FloatTensor of size 1 (GPU 0)]\n",
      "\n",
      "4500 Variable containing:\n",
      " 0.5625\n",
      "[torch.cuda.FloatTensor of size 1 (GPU 0)]\n",
      "\n",
      "4600 Variable containing:\n",
      " 0.5605\n",
      "[torch.cuda.FloatTensor of size 1 (GPU 0)]\n",
      "\n",
      "4700 Variable containing:\n",
      " 0.5602\n",
      "[torch.cuda.FloatTensor of size 1 (GPU 0)]\n",
      "\n",
      "4800 Variable containing:\n",
      " 0.5630\n",
      "[torch.cuda.FloatTensor of size 1 (GPU 0)]\n",
      "\n",
      "4900 Variable containing:\n",
      " 0.5629\n",
      "[torch.cuda.FloatTensor of size 1 (GPU 0)]\n",
      "\n"
     ]
    }
   ],
   "source": [
    "for i in range(5000):\n",
    "#     out_data=model(in_data)    \n",
    "    loss=bce(model(in_data),target)\n",
    "    model.zero_grad()    \n",
    "    loss.backward()\n",
    "    if i%100==0:print(i,loss)\n",
    "    for param in model.parameters():\n",
    "        param.data-=1.e-1*param.grad.data\n"
   ]
  },
  {
   "cell_type": "code",
   "execution_count": 156,
   "metadata": {},
   "outputs": [
    {
     "data": {
      "image/png": "[encoded data removed]",
      "text/plain": [
       "<matplotlib.figure.Figure at 0x7f37f9164400>"
      ]
     },
     "metadata": {},
     "output_type": "display_data"
    },
    {
     "name": "stdout",
     "output_type": "stream",
     "text": [
      "Variable containing:\n",
      " 0.5608\n",
      "[torch.cuda.FloatTensor of size 1 (GPU 0)]\n",
      "\n"
     ]
    }
   ],
   "source": [
    "import matplotlib.pyplot as plt\n",
    "plt.plot(model(in_data).cpu().data.numpy().reshape(lenth,))\n",
    "plt.plot(data[:,-1])\n",
    "plt.show()\n",
    "print(loss)"
   ]
  },
  {
   "cell_type": "code",
   "execution_count": 151,
   "metadata": {},
   "outputs": [
    {
     "data": {
      "image/png": "[encoded data removed]",
      "text/plain": [
       "<matplotlib.figure.Figure at 0x7f37f91b7588>"
      ]
     },
     "metadata": {},
     "output_type": "display_data"
    },
    {
     "name": "stdout",
     "output_type": "stream",
     "text": [
      "4.0\n"
     ]
    }
   ],
   "source": [
    "check_in=Variable(torch.FloatTensor(test[:,:-1]).cuda())\n",
    "# check_out=Variable(torch.FloatTensor(test[:,-1].reshape(300,1)).cuda())\n",
    "check_out=model(check_in).cpu().data.numpy().reshape(900,)\n",
    "plt.plot(test[:,12],c='r')\n",
    "plt.plot(check_out,c='b')\n",
    "plt.show()\n",
    "print(sum(check_out))"
   ]
  },
  {
   "cell_type": "code",
   "execution_count": 36,
   "metadata": {},
   "outputs": [
    {
     "name": "stdout",
     "output_type": "stream",
     "text": [
      "(1000, 12)\n",
      "(1000,)\n",
      "(200, 1000)\n",
      "(200,)\n",
      "(10, 200)\n",
      "(10,)\n",
      "(1, 10)\n",
      "(1,)\n"
     ]
    }
   ],
   "source": [
    "for param in model.parameters():\n",
    "    s=tuple(param.data.shape)\n",
    "    print(s)\n",
    "#     param.data=numpy.random.rand(s)\n",
    "    torch.nn.init.normal(param.data, mean=1, std=5)"
   ]
  },
  {
   "cell_type": "code",
   "execution_count": 37,
   "metadata": {},
   "outputs": [
    {
     "name": "stdout",
     "output_type": "stream",
     "text": [
      "\n",
      " 2.9805e+00  3.7903e+00  5.2261e+00  ...  -4.9122e-01 -6.0955e+00 -2.9075e+00\n",
      " 1.2855e+00 -1.5228e+00  2.6467e+00  ...   8.4955e-01 -1.3732e+00  9.0106e-01\n",
      "-1.2673e+00  1.5764e+01  7.5603e+00  ...   7.8941e+00 -1.3395e+00  5.2513e+00\n",
      "                ...                   ⋱                   ...                \n",
      "-3.6344e+00 -4.3685e+00  4.4766e+00  ...   4.9931e+00 -1.6833e+00 -5.3542e+00\n",
      "-7.1493e+00 -2.7142e+00 -8.0497e+00  ...   6.9458e+00 -8.7086e-01 -1.9271e+00\n",
      " 9.2492e-03  1.3577e+00 -2.3067e+00  ...   8.5594e+00 -9.7786e-01  8.0548e+00\n",
      "[torch.cuda.FloatTensor of size 1000x12 (GPU 0)]\n",
      "\n",
      "\n",
      " -3.0418\n",
      "  2.7590\n",
      "  0.2742\n",
      "   ⋮    \n",
      " -0.1287\n",
      " -1.2891\n",
      "  0.1341\n",
      "[torch.cuda.FloatTensor of size 1000 (GPU 0)]\n",
      "\n",
      "\n",
      "-9.4912e-01  1.1541e+01  1.0526e+01  ...   4.0716e+00  4.7213e+00  6.8896e+00\n",
      "-5.4988e+00  2.0778e+00  7.8817e-01  ...   7.7101e-01  9.6782e-01  9.2789e+00\n",
      "-2.9738e-01 -7.1480e+00 -1.2699e+00  ...  -2.5632e+00  5.7726e-01  5.0610e+00\n",
      "                ...                   ⋱                   ...                \n",
      " 5.1044e+00 -3.8931e+00 -1.1055e+00  ...   3.6663e+00 -6.9639e+00 -2.6487e-01\n",
      "-7.2532e+00 -6.2226e+00  1.4961e+00  ...   9.2660e-01  3.4760e+00  3.7061e-01\n",
      "-1.0900e+01  3.4816e-02  8.4455e-01  ...  -2.8453e+00  3.7316e+00  2.7393e+00\n",
      "[torch.cuda.FloatTensor of size 200x1000 (GPU 0)]\n",
      "\n",
      "\n",
      " -4.3989\n",
      "  4.7547\n",
      "  5.6242\n",
      " 10.0156\n",
      " 10.2533\n",
      "  3.7766\n",
      "  0.5070\n",
      "  0.6716\n",
      "  0.6052\n",
      "  2.0047\n",
      "  6.8106\n",
      " -5.9421\n",
      " -0.7183\n",
      "  9.2871\n",
      " -5.5983\n",
      "  5.3476\n",
      " -2.5086\n",
      "  3.9087\n",
      " -1.0200\n",
      "  2.2356\n",
      " -6.4210\n",
      " -3.7887\n",
      " -5.8762\n",
      "  7.9283\n",
      "  3.0824\n",
      "  5.0720\n",
      "  3.7261\n",
      "  4.0285\n",
      " -0.0081\n",
      " -3.5789\n",
      "  3.4037\n",
      " -0.0274\n",
      "  3.8548\n",
      " -5.6975\n",
      " -2.6497\n",
      "  4.6675\n",
      " -5.9758\n",
      "  4.4053\n",
      "-11.0999\n",
      "  6.8397\n",
      "  6.1306\n",
      "  5.4685\n",
      "  8.1675\n",
      " -4.2642\n",
      "  9.1022\n",
      "  0.2503\n",
      " -0.0895\n",
      " -1.7068\n",
      " -1.8614\n",
      " -4.8846\n",
      "  2.2265\n",
      "  2.2111\n",
      "  5.1275\n",
      "  0.4675\n",
      " -2.8891\n",
      "  3.0541\n",
      "  2.3323\n",
      " -6.1836\n",
      "  0.6017\n",
      "  0.8772\n",
      " -0.6765\n",
      " -1.2261\n",
      "  0.4083\n",
      " -5.0451\n",
      " -5.6319\n",
      " -4.2937\n",
      "-10.9805\n",
      "  2.9439\n",
      " -5.0056\n",
      " -3.2640\n",
      " -2.0850\n",
      " 11.1037\n",
      " -2.3187\n",
      " -5.2069\n",
      "  3.7618\n",
      "  1.8812\n",
      "  3.8934\n",
      "  9.3221\n",
      " 16.9555\n",
      " -4.8153\n",
      "  4.1467\n",
      " -0.0438\n",
      "  4.6228\n",
      " -0.3209\n",
      "  1.4146\n",
      "  2.8308\n",
      " -5.5518\n",
      " 12.7015\n",
      "  4.1133\n",
      " 11.5942\n",
      " -1.1751\n",
      "  4.6689\n",
      " -0.5408\n",
      " -1.7910\n",
      " -3.1311\n",
      "  0.8373\n",
      "  1.2008\n",
      "  3.5974\n",
      " -2.8524\n",
      " -1.3943\n",
      " -6.9389\n",
      " -1.5846\n",
      "  2.4578\n",
      " -2.8561\n",
      " -4.9746\n",
      "  2.5643\n",
      "  5.3419\n",
      " -0.9011\n",
      " -3.6503\n",
      "  7.6450\n",
      " -4.7936\n",
      "  5.2373\n",
      " -8.3671\n",
      " -5.0468\n",
      "  3.3157\n",
      "  0.1496\n",
      " -6.5752\n",
      "  4.2991\n",
      " -1.7886\n",
      "  5.3082\n",
      " -3.2329\n",
      "  9.4047\n",
      " -0.6806\n",
      "  8.3564\n",
      "  4.9114\n",
      " 10.5204\n",
      " -6.0790\n",
      " -5.0872\n",
      "  5.1618\n",
      " 10.8340\n",
      " -1.0361\n",
      "  8.8724\n",
      " -1.4114\n",
      "  3.4048\n",
      "  1.4710\n",
      "  5.5507\n",
      " -5.6481\n",
      " -5.1689\n",
      "  3.7083\n",
      "  2.6876\n",
      " -6.5927\n",
      "  0.6764\n",
      "  6.2712\n",
      "  2.6441\n",
      " -0.4340\n",
      " -1.3427\n",
      "  5.2895\n",
      " -3.5411\n",
      " -0.4558\n",
      " -3.5865\n",
      " -1.4249\n",
      " -3.5362\n",
      "  1.8295\n",
      "  1.6323\n",
      "  2.7576\n",
      "  1.3478\n",
      "  6.1958\n",
      "-11.2459\n",
      "  2.9295\n",
      "  1.1837\n",
      "-10.0189\n",
      "  1.2738\n",
      " -1.8414\n",
      " -0.6043\n",
      " -1.9051\n",
      "  3.6410\n",
      "-12.5693\n",
      "  4.2145\n",
      "  0.5145\n",
      "  2.1482\n",
      "  5.3629\n",
      "  3.4612\n",
      "  0.5465\n",
      "  7.6673\n",
      "  7.9384\n",
      "  6.1944\n",
      "  7.2326\n",
      " -3.4692\n",
      "  6.0110\n",
      "  9.6558\n",
      "  2.5478\n",
      "  9.4446\n",
      " -6.0511\n",
      "  0.0027\n",
      "  3.0011\n",
      " -8.5527\n",
      " -4.6184\n",
      " -2.7072\n",
      " -6.0162\n",
      "  2.7107\n",
      " -0.1223\n",
      "  6.1709\n",
      "  2.1039\n",
      "  5.8760\n",
      "  7.8069\n",
      "-11.6746\n",
      "  3.0866\n",
      "  1.6015\n",
      " -1.4410\n",
      "  0.0943\n",
      "[torch.cuda.FloatTensor of size 200 (GPU 0)]\n",
      "\n",
      "\n",
      "  7.5436   3.6469   2.2904  ...    1.5666  -7.1394  -4.7732\n",
      "  3.7214   2.2969   6.7109  ...  -10.8043  -2.8616  -3.1217\n",
      " -3.7887   1.8856  -0.0131  ...   12.3786   5.0283  -5.4305\n",
      "           ...               ⋱              ...            \n",
      "  0.8251  -4.9110   4.7395  ...   -2.7743   0.1450   0.6949\n",
      "  4.5177   4.3999  -0.5921  ...   -4.5085   8.1856  -3.0185\n",
      " -2.1145  -0.1299  -0.3160  ...   -7.0859   9.9031   2.2791\n",
      "[torch.cuda.FloatTensor of size 10x200 (GPU 0)]\n",
      "\n",
      "\n",
      "  0.5668\n",
      "  6.5769\n",
      " 14.0538\n",
      "  0.6045\n",
      "  3.8855\n",
      " -1.4323\n",
      "  4.1564\n",
      "  3.1652\n",
      " -0.1064\n",
      "  6.0763\n",
      "[torch.cuda.FloatTensor of size 10 (GPU 0)]\n",
      "\n",
      "\n",
      "-3.5760 -0.3515  3.2766  3.1673 -1.3602  7.0980 -1.4375 -2.1909  5.5399  3.5029\n",
      "[torch.cuda.FloatTensor of size 1x10 (GPU 0)]\n",
      "\n",
      "\n",
      " 6.4587\n",
      "[torch.cuda.FloatTensor of size 1 (GPU 0)]\n",
      "\n"
     ]
    }
   ],
   "source": [
    "for param in model.parameters():\n",
    "    print(param.data)"
   ]
  },
  {
   "cell_type": "code",
   "execution_count": 93,
   "metadata": {},
   "outputs": [
    {
     "data": {
      "text/plain": [
       "300"
      ]
     },
     "execution_count": 93,
     "metadata": {},
     "output_type": "execute_result"
    }
   ],
   "source": [
    "len(_)"
   ]
  },
  {
   "cell_type": "code",
   "execution_count": 95,
   "metadata": {},
   "outputs": [
    {
     "ename": "AttributeError",
     "evalue": "'int' object has no attribute 'reshape'",
     "output_type": "error",
     "traceback": [
      "\u001b[0;31m---------------------------------------------------------------------------\u001b[0m",
      "\u001b[0;31mAttributeError\u001b[0m                            Traceback (most recent call last)",
      "\u001b[0;32m<ipython-input-95-2be9da6293e8>\u001b[0m in \u001b[0;36m<module>\u001b[0;34m()\u001b[0m\n\u001b[0;32m----> 1\u001b[0;31m \u001b[0mplt\u001b[0m\u001b[0;34m.\u001b[0m\u001b[0mplot\u001b[0m\u001b[0;34m(\u001b[0m\u001b[0m_\u001b[0m\u001b[0;34m.\u001b[0m\u001b[0mreshape\u001b[0m\u001b[0;34m(\u001b[0m\u001b[0;36m300\u001b[0m\u001b[0;34m,\u001b[0m\u001b[0;36m1\u001b[0m\u001b[0;34m)\u001b[0m\u001b[0;34m)\u001b[0m\u001b[0;34m\u001b[0m\u001b[0m\n\u001b[0m",
      "\u001b[0;31mAttributeError\u001b[0m: 'int' object has no attribute 'reshape'"
     ]
    }
   ],
   "source": [
    "plt.plot(_.reshape(300,))"
   ]
  },
  {
   "cell_type": "code",
   "execution_count": 25,
   "metadata": {},
   "outputs": [
    {
     "name": "stdout",
     "output_type": "stream",
     "text": [
      "\n",
      "-8.9646e-10 -3.1003e-09 -2.2022e-09  ...   7.8005e-10 -3.5961e-09  3.8002e-09\n",
      "-1.6604e-08 -5.7421e-08 -4.0788e-08  ...   1.4448e-08 -6.6604e-08  7.0385e-08\n",
      " 6.5942e-08  2.2805e-07  1.6199e-07  ...  -5.7379e-08  2.6452e-07 -2.7954e-07\n",
      "                ...                   ⋱                   ...                \n",
      "-3.8279e-08 -1.3238e-07 -9.4034e-08  ...   3.3308e-08 -1.5355e-07  1.6227e-07\n",
      " 3.4063e-08  1.1780e-07  8.3678e-08  ...  -2.9639e-08  1.3664e-07 -1.4440e-07\n",
      " 8.3670e-08  2.8937e-07  2.0554e-07  ...  -7.2807e-08  3.3564e-07 -3.5470e-07\n",
      "[torch.cuda.FloatTensor of size 1000x12 (GPU 0)]\n",
      "\n",
      "\n",
      "1.00000e-07 *\n",
      " -0.0292\n",
      " -0.5411\n",
      "  2.1491\n",
      "    ⋮   \n",
      " -1.2475\n",
      "  1.1101\n",
      "  2.7269\n",
      "[torch.cuda.FloatTensor of size 1000 (GPU 0)]\n",
      "\n",
      "\n",
      "1.00000e-06 *\n",
      "-0.0061  0.2468 -0.9461  ...   0.5562 -0.4848 -1.2250\n",
      "[torch.cuda.FloatTensor of size 1x1000 (GPU 0)]\n",
      "\n",
      "\n",
      "1.00000e-07 *\n",
      "  3.1097\n",
      "[torch.cuda.FloatTensor of size 1 (GPU 0)]\n",
      "\n"
     ]
    }
   ],
   "source": [
    "for param in model.parameters():\n",
    "    print(param.grad.data)"
   ]
  },
  {
   "cell_type": "code",
   "execution_count": null,
   "metadata": {},
   "outputs": [],
   "source": []
  }
 ],
 "metadata": {
  "kernelspec": {
   "display_name": "Python 3",
   "language": "python",
   "name": "python3"
  },
  "language_info": {
   "codemirror_mode": {
    "name": "ipython",
    "version": 3
   },
   "file_extension": ".py",
   "mimetype": "text/x-python",
   "name": "python",
   "nbconvert_exporter": "python",
   "pygments_lexer": "ipython3",
   "version": "3.6.3"
  }
 },
 "nbformat": 4,
 "nbformat_minor": 2
}
