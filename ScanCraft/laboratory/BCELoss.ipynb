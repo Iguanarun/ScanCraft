{
 "cells": [
  {
   "cell_type": "code",
   "execution_count": 1,
   "metadata": {},
   "outputs": [],
   "source": [
    "import numpy"
   ]
  },
  {
   "cell_type": "code",
   "execution_count": 2,
   "metadata": {},
   "outputs": [],
   "source": [
    "data1=numpy.load('./Pylon/data1.npy')\n",
    "data2=numpy.load('./Pylon/data2.npy')\n",
    "data3=numpy.load('./Pylon/data3.npy')"
   ]
  },
  {
   "cell_type": "code",
   "execution_count": 66,
   "metadata": {},
   "outputs": [],
   "source": [
    "data=numpy.append(data1[:100,:],data2[:100,:],axis=0)"
   ]
  },
  {
   "cell_type": "code",
   "execution_count": 75,
   "metadata": {},
   "outputs": [
    {
     "data": {
      "text/plain": [
       "200"
      ]
     },
     "execution_count": 75,
     "metadata": {},
     "output_type": "execute_result"
    }
   ],
   "source": [
    "lenth=data.shape[0];lenth"
   ]
  },
  {
   "cell_type": "code",
   "execution_count": 68,
   "metadata": {},
   "outputs": [],
   "source": [
    "normalize=numpy.linalg.inv(numpy.diag([60,1e3,2e3,6e3,2e3,2e3,2e3,1,1,3e3,3e3,1500]))"
   ]
  },
  {
   "cell_type": "code",
   "execution_count": 69,
   "metadata": {},
   "outputs": [],
   "source": [
    "data[:,:-1]=data[:,:-1].dot(normalize)"
   ]
  },
  {
   "cell_type": "code",
   "execution_count": 70,
   "metadata": {},
   "outputs": [
    {
     "data": {
      "text/plain": [
       "array([[ 0.11145951,  0.29407892,  0.97265514, ..., -0.15854434,\n",
       "         0.58944772,  1.        ],\n",
       "       [ 0.26875515,  0.82999171,  0.18217443, ..., -0.0198438 ,\n",
       "         0.75750771,  1.        ],\n",
       "       [ 0.18654231,  0.62494352,  0.86632184, ..., -0.10830531,\n",
       "         0.94899757,  1.        ],\n",
       "       ..., \n",
       "       [ 0.89548265,  0.64586905,  0.17458884, ..., -0.19892215,\n",
       "         0.08390095,  0.        ],\n",
       "       [ 0.30275836,  0.37187541,  0.55046154, ...,  0.06045264,\n",
       "         0.67160116,  0.        ],\n",
       "       [ 0.56638872,  0.74927315,  0.31523053, ...,  0.71936977,\n",
       "         0.97880589,  0.        ]])"
      ]
     },
     "execution_count": 70,
     "metadata": {},
     "output_type": "execute_result"
    }
   ],
   "source": [
    "data"
   ]
  },
  {
   "cell_type": "code",
   "execution_count": 71,
   "metadata": {},
   "outputs": [
    {
     "data": {
      "text/plain": [
       "[0.99807157759007448,\n",
       " 0.99862744105982515,\n",
       " 0.99398966406844225,\n",
       " 0.99044521533772178,\n",
       " 0.99817667989016878,\n",
       " 0.99949002784584284,\n",
       " 0.99639711953782439,\n",
       " 0.65646370357287431,\n",
       " 0.89304270229519955,\n",
       " 0.99374612606773094,\n",
       " 0.97877637699411391,\n",
       " 0.99447011341143554,\n",
       " 1.0]"
      ]
     },
     "execution_count": 71,
     "metadata": {},
     "output_type": "execute_result"
    }
   ],
   "source": [
    "[max(data[:,i]) for i in range(13)]"
   ]
  },
  {
   "cell_type": "code",
   "execution_count": 76,
   "metadata": {},
   "outputs": [],
   "source": [
    "import torch\n",
    "from torch.autograd import Variable\n",
    "from torch import nn\n",
    "bce=nn.BCEWithLogitsLoss()\n",
    "in_data=Variable(torch.FloatTensor(data[:,:-1]).cuda())\n",
    "target=Variable(torch.FloatTensor(data[:,-1].reshape(lenth,1)).cuda())"
   ]
  },
  {
   "cell_type": "code",
   "execution_count": 77,
   "metadata": {},
   "outputs": [
    {
     "data": {
      "text/plain": [
       "Variable containing:\n",
       " 84\n",
       "[torch.cuda.FloatTensor of size 1 (GPU 0)]"
      ]
     },
     "execution_count": 77,
     "metadata": {},
     "output_type": "execute_result"
    }
   ],
   "source": [
    "sum(target)"
   ]
  },
  {
   "cell_type": "code",
   "execution_count": 78,
   "metadata": {},
   "outputs": [],
   "source": [
    "# class model(nn.Module):\n",
    "#     def __init__(self):\n",
    "#         super(Model, self).__init__()\n",
    "#         self."
   ]
  },
  {
   "cell_type": "code",
   "execution_count": 79,
   "metadata": {},
   "outputs": [],
   "source": [
    "model=torch.nn.Sequential(\n",
    "    torch.nn.Linear(12,1000),\n",
    "    torch.nn.Linear(1000,200),\n",
    "    torch.nn.ReLU(),\n",
    "    torch.nn.Linear(200,10),\n",
    "    torch.nn.ReLU(),\n",
    "    torch.nn.Linear(10,1),\n",
    "    torch.nn.Sigmoid()\n",
    ").cuda()"
   ]
  },
  {
   "cell_type": "code",
   "execution_count": 81,
   "metadata": {
    "scrolled": true
   },
   "outputs": [
    {
     "name": "stdout",
     "output_type": "stream",
     "text": [
      "0 Variable containing:\n",
      " 0.5538\n",
      "[torch.cuda.FloatTensor of size 1 (GPU 0)]\n",
      "\n",
      "5000 Variable containing:\n",
      " 0.5538\n",
      "[torch.cuda.FloatTensor of size 1 (GPU 0)]\n",
      "\n",
      "10000 Variable containing:\n",
      " 0.5538\n",
      "[torch.cuda.FloatTensor of size 1 (GPU 0)]\n",
      "\n",
      "15000 Variable containing:\n",
      " 0.5538\n",
      "[torch.cuda.FloatTensor of size 1 (GPU 0)]\n",
      "\n",
      "20000 Variable containing:\n",
      " 0.5538\n",
      "[torch.cuda.FloatTensor of size 1 (GPU 0)]\n",
      "\n",
      "25000 Variable containing:\n",
      " 0.5538\n",
      "[torch.cuda.FloatTensor of size 1 (GPU 0)]\n",
      "\n",
      "30000 Variable containing:\n",
      " 0.5538\n",
      "[torch.cuda.FloatTensor of size 1 (GPU 0)]\n",
      "\n",
      "35000 Variable containing:\n",
      " 0.5538\n",
      "[torch.cuda.FloatTensor of size 1 (GPU 0)]\n",
      "\n",
      "40000 Variable containing:\n",
      " 0.5538\n",
      "[torch.cuda.FloatTensor of size 1 (GPU 0)]\n",
      "\n",
      "45000 Variable containing:\n",
      " 0.5538\n",
      "[torch.cuda.FloatTensor of size 1 (GPU 0)]\n",
      "\n"
     ]
    }
   ],
   "source": [
    "for i in range(50000):\n",
    "#     out_data=model(in_data)    \n",
    "    loss=bce(model(in_data),target)\n",
    "    model.zero_grad()    \n",
    "    loss.backward()\n",
    "    if i%5000==0:print(i,loss)\n",
    "    for param in model.parameters():\n",
    "        param.data-=0.05*param.grad.data\n"
   ]
  },
  {
   "cell_type": "code",
   "execution_count": 46,
   "metadata": {},
   "outputs": [
    {
     "name": "stdout",
     "output_type": "stream",
     "text": [
      "(1000, 12)\n",
      "(1000,)\n",
      "(200, 1000)\n",
      "(200,)\n",
      "(1, 200)\n",
      "(1,)\n"
     ]
    }
   ],
   "source": [
    "for param in model.parameters():\n",
    "    s=tuple(param.data.shape)\n",
    "    print(s)\n",
    "#     param.data=numpy.random.rand(s)\n",
    "    torch.nn.init.normal(param.data, mean=1, std=5)"
   ]
  },
  {
   "cell_type": "code",
   "execution_count": 47,
   "metadata": {},
   "outputs": [
    {
     "name": "stdout",
     "output_type": "stream",
     "text": [
      "\n",
      " 8.1273e+00  2.9305e+00  6.0532e+00  ...   2.5081e+00  3.4004e+00 -6.4813e-01\n",
      " 2.2052e+00 -1.9789e+00  4.9129e+00  ...  -2.8633e+00  3.6361e+00  2.2540e+00\n",
      " 3.0333e+00 -1.8159e+00 -2.9564e+00  ...   1.0484e+00  1.0044e+00  1.1551e+01\n",
      "                ...                   ⋱                   ...                \n",
      " 2.2608e+00  7.6975e+00  3.6564e+00  ...   1.6029e-01  1.1461e+00  3.9208e+00\n",
      "-2.5582e+00  7.2221e-01 -1.2268e+00  ...  -7.1959e-02  9.3305e+00 -1.1570e+01\n",
      "-1.4048e+00  9.5585e-02  7.6323e+00  ...   1.8149e+00 -3.3722e+00  4.7585e+00\n",
      "[torch.cuda.FloatTensor of size 1000x12 (GPU 0)]\n",
      "\n",
      "\n",
      " -5.2450\n",
      " -7.7745\n",
      "  6.2050\n",
      "   ⋮    \n",
      " -3.1656\n",
      "  5.5542\n",
      " -0.9813\n",
      "[torch.cuda.FloatTensor of size 1000 (GPU 0)]\n",
      "\n",
      "\n",
      " 8.4567e+00  3.2745e+00 -1.3566e+00  ...  -1.4573e+00  3.4576e+00  1.2347e+00\n",
      "-1.3640e+00 -5.1292e-01  4.6743e+00  ...  -1.4710e+00 -7.9808e-01  4.2721e+00\n",
      "-3.0124e+00  6.7042e+00 -6.0674e+00  ...   5.4500e+00  4.0487e+00  1.0730e+00\n",
      "                ...                   ⋱                   ...                \n",
      " 3.1470e-01  9.5622e+00  1.0460e+01  ...  -1.8573e-01 -1.1036e+00  6.9370e+00\n",
      " 6.4762e+00 -8.8310e-01 -4.6973e-01  ...   5.8827e+00 -5.3319e+00  3.7686e+00\n",
      "-1.9077e+00 -4.6259e+00  3.5233e+00  ...   7.2069e-01  6.4562e+00  3.6621e+00\n",
      "[torch.cuda.FloatTensor of size 200x1000 (GPU 0)]\n",
      "\n",
      "\n",
      " -0.4893\n",
      "  5.8497\n",
      " -4.4860\n",
      " -0.1519\n",
      " -4.0301\n",
      "  0.7814\n",
      "  2.5783\n",
      "  7.4727\n",
      "  1.2441\n",
      " -1.6750\n",
      "  8.4407\n",
      " -6.5873\n",
      "  0.7876\n",
      "  0.2325\n",
      " -5.4190\n",
      " -8.7932\n",
      " -3.7513\n",
      "  0.2213\n",
      " -5.2702\n",
      "  6.5444\n",
      " -2.0005\n",
      "  1.1294\n",
      " -5.1260\n",
      " 10.2901\n",
      "  1.2752\n",
      " -0.9124\n",
      " -4.4044\n",
      " -2.3974\n",
      "  4.6884\n",
      "  1.9443\n",
      " 13.5429\n",
      "  5.0908\n",
      " -0.1357\n",
      "  6.4281\n",
      "  1.9609\n",
      " -4.0247\n",
      "  1.6233\n",
      " -5.2066\n",
      "  2.8521\n",
      " -2.9572\n",
      "  3.1618\n",
      "  6.0801\n",
      "  3.2734\n",
      "  0.2382\n",
      " -2.1173\n",
      "  0.2783\n",
      "  7.7756\n",
      " -0.7631\n",
      "  3.8503\n",
      "  0.1602\n",
      " -1.8359\n",
      " -1.2908\n",
      " -2.3371\n",
      "  0.2448\n",
      "  4.3651\n",
      " -0.4889\n",
      " -5.1917\n",
      " -4.5516\n",
      " -4.3388\n",
      "  3.0906\n",
      " -3.7155\n",
      " -9.7245\n",
      "  1.5716\n",
      "  2.6050\n",
      "  4.8476\n",
      "  0.7923\n",
      "  6.1045\n",
      " -5.1586\n",
      "  0.9508\n",
      "  2.2923\n",
      "  6.9649\n",
      "  0.2825\n",
      " -0.7088\n",
      "  3.5601\n",
      " -2.5482\n",
      " -1.7669\n",
      " -3.6014\n",
      " -1.5781\n",
      "  4.4035\n",
      "  8.4988\n",
      "  0.5207\n",
      "  5.6343\n",
      " -2.6288\n",
      " -0.3524\n",
      " -2.9589\n",
      "  4.1165\n",
      "  7.0274\n",
      " -2.1334\n",
      " -7.3930\n",
      " -1.2027\n",
      "  8.1792\n",
      "  4.7894\n",
      "  7.9056\n",
      "  2.5657\n",
      " -1.1731\n",
      " -4.2154\n",
      "  0.4780\n",
      "  2.2782\n",
      "  8.4238\n",
      "-10.5391\n",
      "  5.3316\n",
      "  1.1909\n",
      "  0.9803\n",
      " -2.3106\n",
      " -0.2314\n",
      " 10.5739\n",
      "  5.7369\n",
      " -1.0663\n",
      " -0.7020\n",
      " -0.0433\n",
      " -7.4160\n",
      " -2.0602\n",
      " -5.5116\n",
      "  2.2490\n",
      "  6.3456\n",
      " -1.3021\n",
      " -1.0724\n",
      "  3.7712\n",
      " -4.4600\n",
      "  2.9350\n",
      " -3.8868\n",
      "  5.1556\n",
      " -1.2918\n",
      " -0.5989\n",
      "  6.5542\n",
      "  7.0482\n",
      " -7.4059\n",
      "  7.1179\n",
      "  0.8740\n",
      "  4.5182\n",
      " -8.6353\n",
      "-12.0600\n",
      "  6.8498\n",
      " -4.7564\n",
      "  9.9140\n",
      " -3.4930\n",
      " -7.4816\n",
      "  5.3460\n",
      " -6.1864\n",
      "  5.5608\n",
      " -4.7089\n",
      "  0.7278\n",
      " -1.1256\n",
      "  3.7647\n",
      "  2.9289\n",
      " -2.3850\n",
      " -2.5580\n",
      "  8.8480\n",
      "  0.9417\n",
      " -7.5565\n",
      "  2.8270\n",
      " -0.3092\n",
      "  2.5924\n",
      "  6.3402\n",
      " -4.6924\n",
      "  5.1587\n",
      "  6.9668\n",
      "-10.9067\n",
      "  1.6405\n",
      "  2.2650\n",
      "  6.1300\n",
      "  0.3577\n",
      "  8.0430\n",
      "  4.4764\n",
      " -0.0998\n",
      "  1.7870\n",
      "  4.4830\n",
      "  2.7782\n",
      "  0.8380\n",
      "  2.5336\n",
      "  4.6307\n",
      "  0.3458\n",
      " -6.2587\n",
      "  5.8917\n",
      "  0.7586\n",
      "  1.7754\n",
      " -3.7832\n",
      " -4.1336\n",
      " -5.0694\n",
      " -3.9914\n",
      "  4.6313\n",
      "  5.9268\n",
      "  4.1262\n",
      "  2.6251\n",
      " -0.5236\n",
      " -5.6284\n",
      " -3.7173\n",
      "  5.0317\n",
      " -0.6877\n",
      " -6.7125\n",
      "  1.9800\n",
      " -0.9914\n",
      " 10.5313\n",
      " 11.8273\n",
      "  2.7717\n",
      "  2.6504\n",
      "  6.9695\n",
      " -5.9323\n",
      "  5.6443\n",
      " -3.6284\n",
      "[torch.cuda.FloatTensor of size 200 (GPU 0)]\n",
      "\n",
      "\n",
      "\n",
      "Columns 0 to 7 \n",
      "  8.9638  -2.1709   1.9224   3.7806   7.7767   9.5669   1.5371   9.3765\n",
      "\n",
      "Columns 8 to 15 \n",
      " -0.0395   2.6099   2.1467  -5.4375  11.1863   3.8138  -5.3334  -5.7405\n",
      "\n",
      "Columns 16 to 23 \n",
      " -3.2154  -1.3681   3.5137   6.9060  -1.5710   1.4997  -0.7509   0.1034\n",
      "\n",
      "Columns 24 to 31 \n",
      "  5.0861 -11.4355  -1.3027   6.7319   0.2739   4.7067  -4.8029  -4.9098\n",
      "\n",
      "Columns 32 to 39 \n",
      "  3.8843  10.1442  -1.1612   9.6558  -0.1713   0.3138  10.2662  -6.3211\n",
      "\n",
      "Columns 40 to 47 \n",
      "  5.1747   3.1761   2.8307   5.9283  -4.6498   4.3239   4.6407   1.3312\n",
      "\n",
      "Columns 48 to 55 \n",
      "  2.8073   4.5551   6.3619  -3.3357   4.5255   6.1329   5.0639   3.0132\n",
      "\n",
      "Columns 56 to 63 \n",
      "  9.1103  -1.8711  16.2399   1.5043   4.7218  -6.6267   4.6371   1.2480\n",
      "\n",
      "Columns 64 to 71 \n",
      " -1.6143  -5.9328  -7.1401  -2.9715   6.1285   4.3483  10.3345  -1.9029\n",
      "\n",
      "Columns 72 to 79 \n",
      " -4.7595  -1.0328  -5.4151  -1.7096  -1.6185   3.7456  -2.3127  -2.9939\n",
      "\n",
      "Columns 80 to 87 \n",
      "  7.2620   0.7556   9.8192  11.7142   3.4691  -1.9175  -3.2666  -3.2544\n",
      "\n",
      "Columns 88 to 95 \n",
      "  3.7688   3.9203   3.5020   2.6127   2.1862   3.5321  -1.3826   9.5466\n",
      "\n",
      "Columns 96 to 103 \n",
      "  1.6056  -2.6370   0.1109  -0.1432   5.4405   1.2843  -0.0105   0.7162\n",
      "\n",
      "Columns 104 to 111 \n",
      " 19.5167  -5.1140   4.6899  11.9181   0.4952  -7.9254   7.7179 -10.6614\n",
      "\n",
      "Columns 112 to 119 \n",
      " -0.3120   1.5174  -5.0258   2.8025  -5.8274  -6.7056   5.1046  -4.6610\n",
      "\n",
      "Columns 120 to 127 \n",
      " -6.8010   3.9653  -2.8896  -5.7944  -1.6790   4.2519   2.9253   3.1652\n",
      "\n",
      "Columns 128 to 135 \n",
      " -1.8036   1.2841   3.4947   1.0708   4.1221   6.2073  -6.1831  -5.9470\n",
      "\n",
      "Columns 136 to 143 \n",
      "  2.8906  -3.6739  -0.4389   2.6380   3.7045   0.9978  -5.7344   0.2830\n",
      "\n",
      "Columns 144 to 151 \n",
      " -5.4844   0.9799   3.8499  -0.2591   0.0271  -0.1489  -3.5773  -8.9939\n",
      "\n",
      "Columns 152 to 159 \n",
      "  6.0590  12.8615   2.4700  -2.1707   4.5900   2.5739  13.3967  -3.3267\n",
      "\n",
      "Columns 160 to 167 \n",
      " -1.5249   0.8387   0.2245   3.7283  -2.6077   5.3104  -6.1735   3.5918\n",
      "\n",
      "Columns 168 to 175 \n",
      "  0.6578   0.5916  -1.5420  -4.6358  -1.9082  -0.0122  -8.1685   5.6831\n",
      "\n",
      "Columns 176 to 183 \n",
      "  9.2655   3.8565   6.6842  -2.7700   5.0766   0.2787   3.5126   5.2857\n",
      "\n",
      "Columns 184 to 191 \n",
      "  5.8951  -0.8431  -3.6013   5.7499   1.4636   2.0828   0.3049  -3.6232\n",
      "\n",
      "Columns 192 to 199 \n",
      "  7.0398   0.3467   5.4327  -0.7172   6.4809   5.0773  -7.9263  -0.0043\n",
      "[torch.cuda.FloatTensor of size 1x200 (GPU 0)]\n",
      "\n",
      "\n",
      "-7.5111\n",
      "[torch.cuda.FloatTensor of size 1 (GPU 0)]\n",
      "\n"
     ]
    }
   ],
   "source": [
    "for param in model.parameters():\n",
    "    print(param.data)"
   ]
  },
  {
   "cell_type": "code",
   "execution_count": 82,
   "metadata": {
    "scrolled": true
   },
   "outputs": [
    {
     "data": {
      "text/plain": [
       "array([  4.51216042e-09,   9.99382973e-01,   1.00000000e+00,\n",
       "         9.99999881e-01,   9.99741018e-01,   1.00000000e+00,\n",
       "         1.00000000e+00,   9.99997258e-01,   9.99997854e-01,\n",
       "         9.99739707e-01,   1.00000000e+00,   9.99999642e-01,\n",
       "         9.99747336e-01,   9.99999881e-01,   1.40752414e-13,\n",
       "         1.00000000e+00,   8.48313691e-23,   9.99824703e-01,\n",
       "         1.00000000e+00,   1.63441207e-08,   9.99999762e-01,\n",
       "         1.00000000e+00,   9.99629855e-01,   9.99999881e-01,\n",
       "         9.99952555e-01,   9.99999881e-01,   9.99982357e-01,\n",
       "         1.00000000e+00,   9.99746263e-01,   6.16730943e-24,\n",
       "         9.99632716e-01,   9.99474704e-01,   9.99983788e-01,\n",
       "         9.99699354e-01,   1.00000000e+00,   5.34771604e-16,\n",
       "         1.00000000e+00,   9.99719441e-01,   9.99656558e-01,\n",
       "         9.99657273e-01,   9.99986887e-01,   9.99572814e-01,\n",
       "         1.00000000e+00,   9.99766529e-01,   9.99999881e-01,\n",
       "         9.99999881e-01,   2.41401161e-16,   1.73828652e-04,\n",
       "         4.23136025e-31,   8.48609114e-21,   1.17633936e-04,\n",
       "         1.40337666e-04,   4.25645426e-23,   3.19249166e-21,\n",
       "         1.86538703e-26,   1.72649248e-04,   7.57704620e-05,\n",
       "         2.25664891e-07,   0.00000000e+00,   0.00000000e+00,\n",
       "         1.62332337e-20,   5.10957705e-07,   0.00000000e+00,\n",
       "         1.37844719e-29,   3.47252785e-06,   9.35903699e-06,\n",
       "         3.52166120e-25,   2.90755361e-06,   9.79696657e-10,\n",
       "         3.44580179e-21,   1.07618120e-20,   1.15955098e-23,\n",
       "         1.12104971e-07,   1.23653659e-38,   0.00000000e+00,\n",
       "         1.33720590e-04,   6.83492309e-18,   1.39312100e-08,\n",
       "         8.67855988e-07,   2.45350791e-04,   1.63418561e-04,\n",
       "         3.14587930e-26,   1.86391781e-15,   1.83672146e-16,\n",
       "         2.14326229e-15,   8.60946602e-06,   2.73814851e-23,\n",
       "         2.68493602e-20,   9.26437949e-08,   7.30614431e-07,\n",
       "         0.00000000e+00,   3.26436838e-32,   1.20720768e-04,\n",
       "         4.26987086e-08,   1.19121714e-24,   8.07536140e-15,\n",
       "         2.49468796e-11,   2.55401369e-06,   0.00000000e+00,\n",
       "         1.61206864e-11,   1.00000000e+00,   1.00000000e+00,\n",
       "         9.99999404e-01,   9.99916792e-01,   9.28716981e-05,\n",
       "         9.99967456e-01,   1.00000000e+00,   1.00000000e+00,\n",
       "         9.99852180e-01,   1.00000000e+00,   9.99999642e-01,\n",
       "         1.00000000e+00,   1.00000000e+00,   1.00000000e+00,\n",
       "         9.99998569e-01,   1.00000000e+00,   1.00000000e+00,\n",
       "         9.99868393e-01,   9.99741137e-01,   1.00000000e+00,\n",
       "         9.99996543e-01,   4.54245173e-06,   1.00000000e+00,\n",
       "         9.99791563e-01,   9.99783337e-01,   9.99999881e-01,\n",
       "         9.99998927e-01,   9.99979734e-01,   1.00000000e+00,\n",
       "         9.99846101e-01,   9.99914169e-01,   9.99587119e-01,\n",
       "         9.99755561e-01,   7.13372341e-13,   9.99997377e-01,\n",
       "         1.00000000e+00,   1.00000000e+00,   1.00000000e+00,\n",
       "         2.86258273e-36,   1.04804372e-36,   3.12092352e-10,\n",
       "         3.15484831e-05,   0.00000000e+00,   1.37778517e-36,\n",
       "         3.65537785e-38,   0.00000000e+00,   4.85559969e-28,\n",
       "         1.32565088e-20,   1.41991550e-04,   0.00000000e+00,\n",
       "         4.53274433e-34,   7.98846685e-23,   6.46952596e-39,\n",
       "         1.16458829e-28,   3.66014647e-25,   0.00000000e+00,\n",
       "         2.46540585e-04,   0.00000000e+00,   0.00000000e+00,\n",
       "         4.38544848e-05,   2.78973079e-04,   1.06180959e-15,\n",
       "         2.97797320e-09,   5.03731906e-39,   5.44513913e-11,\n",
       "         1.51340074e-09,   7.47782723e-33,   1.47666156e-04,\n",
       "         1.21359010e-33,   1.86904528e-14,   2.16629110e-06,\n",
       "         1.60698983e-04,   1.08015054e-04,   5.27121937e-23,\n",
       "         2.32534536e-22,   5.12333891e-11,   4.24057919e-27,\n",
       "         4.40416187e-18,   2.00401864e-05,   0.00000000e+00,\n",
       "         1.88709278e-13,   2.01364037e-06,   1.00826608e-30,\n",
       "         5.95347788e-19,   0.00000000e+00,   9.99999881e-01,\n",
       "         1.23463565e-06,   1.39901679e-15,   1.34064350e-34,\n",
       "         5.25211909e-35,   1.05325053e-05,   9.22629034e-38,\n",
       "         1.18051845e-04,   2.00368600e-22,   6.37908919e-19,\n",
       "         1.66106402e-04,   1.65724970e-07,   5.10870523e-05,\n",
       "         9.11597395e-04,   5.59920975e-23], dtype=float32)"
      ]
     },
     "execution_count": 82,
     "metadata": {},
     "output_type": "execute_result"
    }
   ],
   "source": [
    "model(in_data).cpu().data.numpy().reshape(lenth,)"
   ]
  },
  {
   "cell_type": "code",
   "execution_count": 83,
   "metadata": {},
   "outputs": [
    {
     "data": {
      "image/png": "[encoded data removed]",
      "text/plain": [
       "<matplotlib.figure.Figure at 0x7f471a593630>"
      ]
     },
     "metadata": {},
     "output_type": "display_data"
    }
   ],
   "source": [
    "import matplotlib.pyplot as plt\n",
    "plt.plot(_)\n",
    "plt.show()"
   ]
  },
  {
   "cell_type": "code",
   "execution_count": 84,
   "metadata": {},
   "outputs": [
    {
     "data": {
      "image/png": "[encoded data removed]",
      "text/plain": [
       "<matplotlib.figure.Figure at 0x7f471a41a8d0>"
      ]
     },
     "metadata": {},
     "output_type": "display_data"
    }
   ],
   "source": [
    "import matplotlib.pyplot as plt\n",
    "plt.plot(target.cpu().data.numpy().reshape(lenth,))\n",
    "plt.show()"
   ]
  },
  {
   "cell_type": "code",
   "execution_count": 98,
   "metadata": {},
   "outputs": [
    {
     "data": {
      "image/png": "[encoded data removed]",
      "text/plain": [
       "<matplotlib.figure.Figure at 0x7f4713f27e80>"
      ]
     },
     "metadata": {},
     "output_type": "display_data"
    }
   ],
   "source": [
    "check_in=Variable(torch.FloatTensor(data3[:,:-1]).cuda())\n",
    "check_out=Variable(torch.FloatTensor(data3[:,-1].reshape(300,1)).cuda())\n",
    "plt.plot(model(check_in).cpu().data.numpy().reshape(300,))\n",
    "plt.plot(data3[:,12])\n",
    "plt.show()"
   ]
  },
  {
   "cell_type": "code",
   "execution_count": 93,
   "metadata": {},
   "outputs": [
    {
     "data": {
      "text/plain": [
       "300"
      ]
     },
     "execution_count": 93,
     "metadata": {},
     "output_type": "execute_result"
    }
   ],
   "source": [
    "len(_)"
   ]
  },
  {
   "cell_type": "code",
   "execution_count": 95,
   "metadata": {},
   "outputs": [
    {
     "ename": "AttributeError",
     "evalue": "'int' object has no attribute 'reshape'",
     "output_type": "error",
     "traceback": [
      "\u001b[0;31m---------------------------------------------------------------------------\u001b[0m",
      "\u001b[0;31mAttributeError\u001b[0m                            Traceback (most recent call last)",
      "\u001b[0;32m<ipython-input-95-2be9da6293e8>\u001b[0m in \u001b[0;36m<module>\u001b[0;34m()\u001b[0m\n\u001b[0;32m----> 1\u001b[0;31m \u001b[0mplt\u001b[0m\u001b[0;34m.\u001b[0m\u001b[0mplot\u001b[0m\u001b[0;34m(\u001b[0m\u001b[0m_\u001b[0m\u001b[0;34m.\u001b[0m\u001b[0mreshape\u001b[0m\u001b[0;34m(\u001b[0m\u001b[0;36m300\u001b[0m\u001b[0;34m,\u001b[0m\u001b[0;36m1\u001b[0m\u001b[0;34m)\u001b[0m\u001b[0;34m)\u001b[0m\u001b[0;34m\u001b[0m\u001b[0m\n\u001b[0m",
      "\u001b[0;31mAttributeError\u001b[0m: 'int' object has no attribute 'reshape'"
     ]
    }
   ],
   "source": [
    "plt.plot(_.reshape(300,))"
   ]
  },
  {
   "cell_type": "code",
   "execution_count": 25,
   "metadata": {},
   "outputs": [
    {
     "name": "stdout",
     "output_type": "stream",
     "text": [
      "\n",
      "-8.9646e-10 -3.1003e-09 -2.2022e-09  ...   7.8005e-10 -3.5961e-09  3.8002e-09\n",
      "-1.6604e-08 -5.7421e-08 -4.0788e-08  ...   1.4448e-08 -6.6604e-08  7.0385e-08\n",
      " 6.5942e-08  2.2805e-07  1.6199e-07  ...  -5.7379e-08  2.6452e-07 -2.7954e-07\n",
      "                ...                   ⋱                   ...                \n",
      "-3.8279e-08 -1.3238e-07 -9.4034e-08  ...   3.3308e-08 -1.5355e-07  1.6227e-07\n",
      " 3.4063e-08  1.1780e-07  8.3678e-08  ...  -2.9639e-08  1.3664e-07 -1.4440e-07\n",
      " 8.3670e-08  2.8937e-07  2.0554e-07  ...  -7.2807e-08  3.3564e-07 -3.5470e-07\n",
      "[torch.cuda.FloatTensor of size 1000x12 (GPU 0)]\n",
      "\n",
      "\n",
      "1.00000e-07 *\n",
      " -0.0292\n",
      " -0.5411\n",
      "  2.1491\n",
      "    ⋮   \n",
      " -1.2475\n",
      "  1.1101\n",
      "  2.7269\n",
      "[torch.cuda.FloatTensor of size 1000 (GPU 0)]\n",
      "\n",
      "\n",
      "1.00000e-06 *\n",
      "-0.0061  0.2468 -0.9461  ...   0.5562 -0.4848 -1.2250\n",
      "[torch.cuda.FloatTensor of size 1x1000 (GPU 0)]\n",
      "\n",
      "\n",
      "1.00000e-07 *\n",
      "  3.1097\n",
      "[torch.cuda.FloatTensor of size 1 (GPU 0)]\n",
      "\n"
     ]
    }
   ],
   "source": [
    "for param in model.parameters():\n",
    "    print(param.grad.data)"
   ]
  },
  {
   "cell_type": "code",
   "execution_count": null,
   "metadata": {},
   "outputs": [],
   "source": []
  }
 ],
 "metadata": {
  "kernelspec": {
   "display_name": "Python 3",
   "language": "python",
   "name": "python3"
  },
  "language_info": {
   "codemirror_mode": {
    "name": "ipython",
    "version": 3
   },
   "file_extension": ".py",
   "mimetype": "text/x-python",
   "name": "python",
   "nbconvert_exporter": "python",
   "pygments_lexer": "ipython3",
   "version": "3.6.3"
  }
 },
 "nbformat": 4,
 "nbformat_minor": 2
}
