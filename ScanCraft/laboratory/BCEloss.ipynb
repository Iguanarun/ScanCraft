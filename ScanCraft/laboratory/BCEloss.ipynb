{
 "cells": [
  {
   "cell_type": "code",
   "execution_count": 1,
   "metadata": {},
   "outputs": [],
   "source": [
    "import numpy"
   ]
  },
  {
   "cell_type": "code",
   "execution_count": 2,
   "metadata": {},
   "outputs": [],
   "source": [
    "L1=numpy.random.randn(5)"
   ]
  },
  {
   "cell_type": "code",
   "execution_count": 3,
   "metadata": {},
   "outputs": [
    {
     "data": {
      "text/plain": [
       "array([-1.34377328, -0.06965053,  0.44777577, -1.61771984,  2.03643124])"
      ]
     },
     "execution_count": 3,
     "metadata": {},
     "output_type": "execute_result"
    },
    {
     "data": {
      "text/plain": [
       "array([-1.34377328, -0.06965053,  0.44777577, -1.61771984,  2.03643124])"
      ]
     },
     "execution_count": 3,
     "metadata": {},
     "output_type": "execute_result"
    }
   ],
   "source": [
    "L1"
   ]
  },
  {
   "cell_type": "code",
   "execution_count": 4,
   "metadata": {},
   "outputs": [],
   "source": [
    "L2=numpy.where(L1>0,1,0)"
   ]
  },
  {
   "cell_type": "code",
   "execution_count": 5,
   "metadata": {},
   "outputs": [],
   "source": [
    "data=numpy.stack((L1,L2),axis=1)"
   ]
  },
  {
   "cell_type": "code",
   "execution_count": 6,
   "metadata": {},
   "outputs": [
    {
     "data": {
      "text/plain": [
       "array([[-1.34377328,  0.        ],\n",
       "       [-0.06965053,  0.        ],\n",
       "       [ 0.44777577,  1.        ],\n",
       "       [-1.61771984,  0.        ],\n",
       "       [ 2.03643124,  1.        ]])"
      ]
     },
     "execution_count": 6,
     "metadata": {},
     "output_type": "execute_result"
    },
    {
     "data": {
      "text/plain": [
       "array([[-1.34377328,  0.        ],\n",
       "       [-0.06965053,  0.        ],\n",
       "       [ 0.44777577,  1.        ],\n",
       "       [-1.61771984,  0.        ],\n",
       "       [ 2.03643124,  1.        ]])"
      ]
     },
     "execution_count": 6,
     "metadata": {},
     "output_type": "execute_result"
    }
   ],
   "source": [
    "data"
   ]
  },
  {
   "cell_type": "code",
   "execution_count": 7,
   "metadata": {},
   "outputs": [],
   "source": [
    "import torch\n",
    "from torch import nn\n",
    "loss=nn.BCELoss()"
   ]
  },
  {
   "cell_type": "code",
   "execution_count": 8,
   "metadata": {},
   "outputs": [
    {
     "data": {
      "text/plain": [
       "Variable containing:\n",
       "-1.3438\n",
       "-0.0697\n",
       " 0.4478\n",
       "-1.6177\n",
       " 2.0364\n",
       "[torch.FloatTensor of size 5x1]"
      ]
     },
     "execution_count": 8,
     "metadata": {},
     "output_type": "execute_result"
    },
    {
     "data": {
      "text/plain": [
       "Variable containing:\n",
       "-1.3438\n",
       "-0.0697\n",
       " 0.4478\n",
       "-1.6177\n",
       " 2.0364\n",
       "[torch.FloatTensor of size 5x1]"
      ]
     },
     "execution_count": 8,
     "metadata": {},
     "output_type": "execute_result"
    }
   ],
   "source": [
    "input=torch.autograd.Variable(torch.Tensor(data[:,0].reshape((5,1))),requires_grad=True)\n",
    "input"
   ]
  },
  {
   "cell_type": "code",
   "execution_count": 9,
   "metadata": {},
   "outputs": [
    {
     "data": {
      "text/plain": [
       "Variable containing:\n",
       " 0\n",
       " 0\n",
       " 1\n",
       " 0\n",
       " 1\n",
       "[torch.FloatTensor of size 5x1]"
      ]
     },
     "execution_count": 9,
     "metadata": {},
     "output_type": "execute_result"
    },
    {
     "data": {
      "text/plain": [
       "Variable containing:\n",
       " 0\n",
       " 0\n",
       " 1\n",
       " 0\n",
       " 1\n",
       "[torch.FloatTensor of size 5x1]"
      ]
     },
     "execution_count": 9,
     "metadata": {},
     "output_type": "execute_result"
    }
   ],
   "source": [
    "target=torch.autograd.Variable(torch.Tensor(data[:,1].reshape((5,1))))\n",
    "target"
   ]
  },
  {
   "cell_type": "code",
   "execution_count": 10,
   "metadata": {},
   "outputs": [],
   "source": [
    "from torch.autograd import Variable\n",
    "model=torch.nn.Sequential(\n",
    "    torch.nn.Linear(1,10),\n",
    "    torch.nn.ReLU(),\n",
    "    torch.nn.Linear(10,5),\n",
    "    torch.nn.ReLU(),\n",
    "    torch.nn.Linear(5,1),\n",
    "    torch.nn.ReLU(),\n",
    ")"
   ]
  },
  {
   "cell_type": "code",
   "execution_count": 11,
   "metadata": {},
   "outputs": [
    {
     "data": {
      "text/plain": [
       "Sequential (\n",
       "  (0): Linear (1 -> 10)\n",
       "  (1): ReLU ()\n",
       "  (2): Linear (10 -> 5)\n",
       "  (3): ReLU ()\n",
       "  (4): Linear (5 -> 1)\n",
       "  (5): ReLU ()\n",
       ")"
      ]
     },
     "execution_count": 11,
     "metadata": {},
     "output_type": "execute_result"
    },
    {
     "data": {
      "text/plain": [
       "Sequential (\n",
       "  (0): Linear (1 -> 10)\n",
       "  (1): ReLU ()\n",
       "  (2): Linear (10 -> 5)\n",
       "  (3): ReLU ()\n",
       "  (4): Linear (5 -> 1)\n",
       "  (5): ReLU ()\n",
       ")"
      ]
     },
     "execution_count": 11,
     "metadata": {},
     "output_type": "execute_result"
    }
   ],
   "source": [
    "model"
   ]
  },
  {
   "cell_type": "code",
   "execution_count": 12,
   "metadata": {},
   "outputs": [],
   "source": [
    "ll=loss(model(input),target)"
   ]
  },
  {
   "cell_type": "code",
   "execution_count": 13,
   "metadata": {},
   "outputs": [
    {
     "data": {
      "text/plain": [
       "Variable containing:\n",
       " 0.6096\n",
       "[torch.FloatTensor of size 1]"
      ]
     },
     "execution_count": 13,
     "metadata": {},
     "output_type": "execute_result"
    },
    {
     "data": {
      "text/plain": [
       "Variable containing:\n",
       " 0.6096\n",
       "[torch.FloatTensor of size 1]"
      ]
     },
     "execution_count": 13,
     "metadata": {},
     "output_type": "execute_result"
    }
   ],
   "source": [
    "ll"
   ]
  },
  {
   "cell_type": "code",
   "execution_count": 14,
   "metadata": {},
   "outputs": [],
   "source": [
    "model.zero_grad()"
   ]
  },
  {
   "cell_type": "code",
   "execution_count": 15,
   "metadata": {},
   "outputs": [],
   "source": [
    "ll.backward()"
   ]
  },
  {
   "cell_type": "code",
   "execution_count": 16,
   "metadata": {},
   "outputs": [],
   "source": [
    "for param in model.parameters():\n",
    "    param.data-=0.1*param.grad.data"
   ]
  },
  {
   "cell_type": "code",
   "execution_count": 17,
   "metadata": {},
   "outputs": [
    {
     "name": "stdout",
     "output_type": "stream",
     "text": [
      "\n",
      " 0.4157\n",
      "-0.6576\n",
      "-0.0743\n",
      "-0.5134\n",
      "-0.2488\n",
      " 0.2722\n",
      "-0.9457\n",
      " 0.2895\n",
      " 0.4665\n",
      " 0.6346\n",
      "[torch.FloatTensor of size 10x1]\n",
      "\n",
      "\n",
      " 0.2622\n",
      " 0.1146\n",
      " 0.9324\n",
      " 0.4220\n",
      " 0.1945\n",
      "-0.1823\n",
      "-0.2711\n",
      " 0.8837\n",
      " 0.4338\n",
      " 0.1053\n",
      "[torch.FloatTensor of size 10]\n",
      "\n",
      "\n",
      "-0.2573  0.2353 -0.2236 -0.2860  0.2243 -0.1043 -0.2069  0.3070  0.2336  0.2636\n",
      "-0.3052 -0.3041 -0.0735 -0.2405 -0.2780 -0.1895  0.2566  0.1217 -0.2519  0.2310\n",
      " 0.0221  0.2752 -0.0777 -0.0242  0.0884  0.1698 -0.0344 -0.2683 -0.1254 -0.2869\n",
      " 0.0715 -0.1303  0.2031 -0.2952  0.2014 -0.1408 -0.2876 -0.0882  0.2073 -0.2237\n",
      "-0.0413 -0.3089 -0.0899 -0.2780  0.0435  0.0446 -0.2160 -0.0610 -0.0517 -0.1149\n",
      "[torch.FloatTensor of size 5x10]\n",
      "\n",
      "\n",
      "-0.0329\n",
      "-0.3046\n",
      " 0.0206\n",
      " 0.1306\n",
      "-0.2027\n",
      "[torch.FloatTensor of size 5]\n",
      "\n",
      "\n",
      " 0.2601  0.2503  0.0817  0.2881  0.4407\n",
      "[torch.FloatTensor of size 1x5]\n",
      "\n",
      "\n",
      " 0.3524\n",
      "[torch.FloatTensor of size 1]\n",
      "\n",
      "\n",
      " 0.4157\n",
      "-0.6576\n",
      "-0.0743\n",
      "-0.5134\n",
      "-0.2488\n",
      " 0.2722\n",
      "-0.9457\n",
      " 0.2895\n",
      " 0.4665\n",
      " 0.6346\n",
      "[torch.FloatTensor of size 10x1]\n",
      "\n",
      "\n",
      " 0.2622\n",
      " 0.1146\n",
      " 0.9324\n",
      " 0.4220\n",
      " 0.1945\n",
      "-0.1823\n",
      "-0.2711\n",
      " 0.8837\n",
      " 0.4338\n",
      " 0.1053\n",
      "[torch.FloatTensor of size 10]\n",
      "\n",
      "\n",
      "-0.2573  0.2353 -0.2236 -0.2860  0.2243 -0.1043 -0.2069  0.3070  0.2336  0.2636\n",
      "-0.3052 -0.3041 -0.0735 -0.2405 -0.2780 -0.1895  0.2566  0.1217 -0.2519  0.2310\n",
      " 0.0221  0.2752 -0.0777 -0.0242  0.0884  0.1698 -0.0344 -0.2683 -0.1254 -0.2869\n",
      " 0.0715 -0.1303  0.2031 -0.2952  0.2014 -0.1408 -0.2876 -0.0882  0.2073 -0.2237\n",
      "-0.0413 -0.3089 -0.0899 -0.2780  0.0435  0.0446 -0.2160 -0.0610 -0.0517 -0.1149\n",
      "[torch.FloatTensor of size 5x10]\n",
      "\n",
      "\n",
      "-0.0329\n",
      "-0.3046\n",
      " 0.0206\n",
      " 0.1306\n",
      "-0.2027\n",
      "[torch.FloatTensor of size 5]\n",
      "\n",
      "\n",
      " 0.2601  0.2503  0.0817  0.2881  0.4407\n",
      "[torch.FloatTensor of size 1x5]\n",
      "\n",
      "\n",
      " 0.3524\n",
      "[torch.FloatTensor of size 1]\n",
      "\n"
     ]
    }
   ],
   "source": [
    "for param in model.parameters():\n",
    "    print(param.data)"
   ]
  },
  {
   "cell_type": "code",
   "execution_count": null,
   "metadata": {},
   "outputs": [],
   "source": []
  }
 ],
 "metadata": {
  "kernelspec": {
   "display_name": "Python 3",
   "language": "python",
   "name": "python3"
  },
  "language_info": {
   "codemirror_mode": {
    "name": "ipython",
    "version": 3
   },
   "file_extension": ".py",
   "mimetype": "text/x-python",
   "name": "python",
   "nbconvert_exporter": "python",
   "pygments_lexer": "ipython3",
   "version": "3.6.3"
  }
 },
 "nbformat": 4,
 "nbformat_minor": 2
}
