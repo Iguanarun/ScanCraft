{
 "cells": [
  {
   "cell_type": "code",
   "execution_count": 1,
   "metadata": {},
   "outputs": [],
   "source": [
    "import sys\n",
    "sys.path.append('/home/heyangle/Desktop/ScanCraft/ScanCraft')\n",
    "from command.scan import scan\n",
    "from command.NMSSMTools import NMSSMTools\n",
    "mold=scan(method='random')\n",
    "mold.AddScalar('tanB','MINPAR',3,1.,60.)\n",
    "mold.AddScalar('M1','EXTPAR',1  ,20.    ,1000.)\n",
    "mold.AddScalar('M2','EXTPAR'   ,2  ,100.    ,2000.)\n",
    "mold.AddScalar('Atop','EXTPAR'   ,11  ,  -6e3    ,6e3)\n",
    "mold.AddFollower('Abottom','EXTPAR'   ,12,'Atop')\n",
    "mold.AddScalar('Atau','EXTPAR'   ,13  ,  100.      ,2000.)\n",
    "mold.AddFollower('MtauL','EXTPAR'   ,33,'Atau')\n",
    "mold.AddFollower('MtauR','EXTPAR'   ,36,'Atau')\n",
    "mold.AddScalar('MQ3L','EXTPAR'   ,43,\t100.,\t2.e3)\n",
    "mold.AddScalar('MtopR'\t,'EXTPAR'   ,46,\t100.,\t2.e3)\n",
    "mold.AddFollower('MbottomR','EXTPAR'  ,49,'MtopR')\n",
    "mold.AddScalar('Lambda','EXTPAR'  ,61  ,1e-3    ,1. ,prior_distribution='exponential')\n",
    "mold.AddScalar('Kappa','EXTPAR'   ,62 ,1.e-3    ,1. ,prior_distribution='exponential')\n",
    "mold.AddScalar('A_Lambda','EXTPAR' ,63,-3.e3,3.e3)\n",
    "mold.AddScalar('A_kappa','EXTPAR' ,64,-3.e3,3.e3)\n",
    "mold.AddScalar('mu_eff','EXTPAR'  ,65,100.,1500.)"
   ]
  },
  {
   "cell_type": "code",
   "execution_count": 2,
   "metadata": {},
   "outputs": [
    {
     "name": "stdout",
     "output_type": "stream",
     "text": [
      "delete folder record? (y/n) \n",
      "\n"
     ]
    }
   ],
   "source": [
    "from command.multi_thread.queue_operation import GenerateQueue\n",
    "from command.multi_thread.MT_NTools import MT_NTools\n",
    "MTN=MT_NTools(threads=6)"
   ]
  },
  {
   "cell_type": "code",
   "execution_count": 3,
   "metadata": {},
   "outputs": [
    {
     "data": {
      "text/plain": [
       "100"
      ]
     },
     "execution_count": 3,
     "metadata": {},
     "output_type": "execute_result"
    }
   ],
   "source": [
    "ore_q=GenerateQueue(mold,total_number=100)\n",
    "ore_q.qsize()"
   ]
  },
  {
   "cell_type": "code",
   "execution_count": 4,
   "metadata": {
    "scrolled": true
   },
   "outputs": [
    {
     "name": "stdout",
     "output_type": "stream",
     "text": [
      "Calculations begin at Fri Nov 24 17:54:23 2017\n",
      "  threads:  6\n",
      "  points  100\n",
      "  thread-4\truning,        0 points left at Fri Nov 24 17:54:29 2017\n",
      "All points done. Use 0.002152 hours\n"
     ]
    }
   ],
   "source": [
    "MTN.run(ore_q)"
   ]
  },
  {
   "cell_type": "code",
   "execution_count": null,
   "metadata": {},
   "outputs": [],
   "source": []
  },
  {
   "cell_type": "code",
   "execution_count": 8,
   "metadata": {},
   "outputs": [],
   "source": [
    "import pandas"
   ]
  },
  {
   "cell_type": "code",
   "execution_count": 9,
   "metadata": {},
   "outputs": [
    {
     "data": {
      "text/plain": [
       "[]"
      ]
     },
     "execution_count": 9,
     "metadata": {},
     "output_type": "execute_result"
    }
   ],
   "source": [
    "acc=NT[0].accepted_list;acc"
   ]
  },
  {
   "cell_type": "code",
   "execution_count": 18,
   "metadata": {},
   "outputs": [
    {
     "data": {
      "text/plain": [
       "dict_keys(['tanB', 'M1', 'M2', 'Atop', 'Abottom', 'Atau', 'MtauL', 'MtauR', 'MQ3L', 'MtopR', 'MbottomR', 'Lambda', 'Kappa', 'A_Lambda', 'A_kappa', 'mu_eff'])"
      ]
     },
     "execution_count": 18,
     "metadata": {},
     "output_type": "execute_result"
    }
   ],
   "source": [
    "acc[0].variable_list.keys()"
   ]
  },
  {
   "cell_type": "code",
   "execution_count": 20,
   "metadata": {},
   "outputs": [
    {
     "data": {
      "text/plain": [
       "[('input', 'MINPAR', 3, 'tanB'),\n",
       " ('input', 'EXTPAR', 1, 'M1'),\n",
       " ('input', 'EXTPAR', 2, 'M2'),\n",
       " ('input', 'EXTPAR', 11, 'Atop'),\n",
       " ('input', 'EXTPAR', 12, 'Abottom'),\n",
       " ('input', 'EXTPAR', 13, 'Atau'),\n",
       " ('input', 'EXTPAR', 33, 'MtauL'),\n",
       " ('input', 'EXTPAR', 36, 'MtauR'),\n",
       " ('input', 'EXTPAR', 43, 'MQ3L'),\n",
       " ('input', 'EXTPAR', 46, 'MtopR'),\n",
       " ('input', 'EXTPAR', 49, 'MbottomR'),\n",
       " ('input', 'EXTPAR', 61, 'Lambda'),\n",
       " ('input', 'EXTPAR', 62, 'Kappa'),\n",
       " ('input', 'EXTPAR', 63, 'A_Lambda'),\n",
       " ('input', 'EXTPAR', 64, 'A_kappa'),\n",
       " ('input', 'EXTPAR', 65, 'mu_eff')]"
      ]
     },
     "execution_count": 20,
     "metadata": {},
     "output_type": "execute_result"
    }
   ],
   "source": [
    "col_product=[]\n",
    "for par in acc[0].variable_list.values():\n",
    "    col_product.append(tuple(['input',par.block,par.code,par.name]))\n",
    "col_product"
   ]
  },
  {
   "cell_type": "code",
   "execution_count": 23,
   "metadata": {},
   "outputs": [
    {
     "name": "stdout",
     "output_type": "stream",
     "text": [
      "MultiIndex(levels=[['input'], ['EXTPAR', 'MINPAR'], [1, 2, 3, 11, 12, 13, 33, 36, 43, 46, 49, 61, 62, 63, 64, 65], ['A_Lambda', 'A_kappa', 'Abottom', 'Atau', 'Atop', 'Kappa', 'Lambda', 'M1', 'M2', 'MQ3L', 'MbottomR', 'MtauL', 'MtauR', 'MtopR', 'mu_eff', 'tanB']],\n",
      "           labels=[[0, 0, 0, 0, 0, 0, 0, 0, 0, 0, 0, 0, 0, 0, 0, 0], [1, 0, 0, 0, 0, 0, 0, 0, 0, 0, 0, 0, 0, 0, 0, 0], [2, 0, 1, 3, 4, 5, 6, 7, 8, 9, 10, 11, 12, 13, 14, 15], [15, 7, 8, 4, 2, 3, 11, 12, 9, 13, 10, 6, 5, 0, 1, 14]],\n",
      "           names=['IO', 'block', 'code', 'name'])\n"
     ]
    }
   ],
   "source": [
    "col=pandas.MultiIndex.from_tuples(col_product,names=['IO','block','code','name'])\n",
    "print(col)"
   ]
  },
  {
   "cell_type": "code",
   "execution_count": 34,
   "metadata": {},
   "outputs": [
    {
     "data": {
      "text/plain": [
       "Index(['input', 'input', 'input', 'input', 'input', 'input', 'input', 'input',\n",
       "       'input', 'input', 'input', 'input', 'input', 'input', 'input', 'input'],\n",
       "      dtype='object', name='IO')"
      ]
     },
     "execution_count": 34,
     "metadata": {},
     "output_type": "execute_result"
    }
   ],
   "source": [
    "col.get_level_values(0)"
   ]
  },
  {
   "cell_type": "code",
   "execution_count": 36,
   "metadata": {},
   "outputs": [
    {
     "name": "stdout",
     "output_type": "stream",
     "text": [
      "('input', 'MINPAR', 3, 'tanB')\n",
      "('input', 'EXTPAR', 1, 'M1')\n",
      "('input', 'EXTPAR', 2, 'M2')\n",
      "('input', 'EXTPAR', 11, 'Atop')\n",
      "('input', 'EXTPAR', 12, 'Abottom')\n",
      "('input', 'EXTPAR', 13, 'Atau')\n",
      "('input', 'EXTPAR', 33, 'MtauL')\n",
      "('input', 'EXTPAR', 36, 'MtauR')\n",
      "('input', 'EXTPAR', 43, 'MQ3L')\n",
      "('input', 'EXTPAR', 46, 'MtopR')\n",
      "('input', 'EXTPAR', 49, 'MbottomR')\n",
      "('input', 'EXTPAR', 61, 'Lambda')\n",
      "('input', 'EXTPAR', 62, 'Kappa')\n",
      "('input', 'EXTPAR', 63, 'A_Lambda')\n",
      "('input', 'EXTPAR', 64, 'A_kappa')\n",
      "('input', 'EXTPAR', 65, 'mu_eff')\n"
     ]
    }
   ],
   "source": [
    "for index in col:\n",
    "    print(index)"
   ]
  },
  {
   "cell_type": "code",
   "execution_count": 39,
   "metadata": {},
   "outputs": [
    {
     "name": "stdout",
     "output_type": "stream",
     "text": [
      "[[  5.99858673e+01   8.45866684e+02   1.71944514e+03  -4.16177403e+03\n",
      "   -4.16177403e+03   3.75777524e+02   3.75777524e+02   3.75777524e+02\n",
      "    1.26851438e+03   1.23298696e+03   1.23298696e+03   5.53560123e-02\n",
      "    1.15754580e-01   1.74263747e+03  -2.52727847e+02   9.52932238e+02]\n",
      " [  1.17135915e+01   3.53155245e+02   1.66528581e+03  -1.68268491e+03\n",
      "   -1.68268491e+03   1.96094791e+03   1.96094791e+03   1.96094791e+03\n",
      "    7.78638767e+02   1.74287149e+03   1.74287149e+03   2.80381756e-01\n",
      "    3.59629492e-01   2.61997061e+03  -1.88980568e+03   3.80807354e+02]\n",
      " [  9.65802579e+00   4.37760545e+02   1.01005788e+03  -3.69980587e+02\n",
      "   -3.69980587e+02   5.17900014e+02   5.17900014e+02   5.17900014e+02\n",
      "    1.49395979e+03   1.39138508e+03   1.39138508e+03   8.05396610e-02\n",
      "    1.96470149e-01  -1.77996130e+03  -2.78714071e+03   1.42616365e+03]]\n"
     ]
    }
   ],
   "source": [
    "import numpy\n",
    "array=[]\n",
    "for sample in acc:\n",
    "    a_i=[]\n",
    "    for IO,block,code,name in col:\n",
    "        a_i.append(sample.block_list[block][code]())\n",
    "#     print(a_i)\n",
    "    array.append(a_i)\n",
    "array=numpy.array(array)\n",
    "print(array)"
   ]
  },
  {
   "cell_type": "code",
   "execution_count": 40,
   "metadata": {},
   "outputs": [],
   "source": [
    "input_data=pandas.DataFrame(array,columns=col)"
   ]
  },
  {
   "cell_type": "code",
   "execution_count": 41,
   "metadata": {},
   "outputs": [
    {
     "data": {
      "text/html": [
       "<div>\n",
       "<style scoped>\n",
       "    .dataframe tbody tr th:only-of-type {\n",
       "        vertical-align: middle;\n",
       "    }\n",
       "\n",
       "    .dataframe tbody tr th {\n",
       "        vertical-align: top;\n",
       "    }\n",
       "\n",
       "    .dataframe thead tr th {\n",
       "        text-align: left;\n",
       "    }\n",
       "</style>\n",
       "<table border=\"1\" class=\"dataframe\">\n",
       "  <thead>\n",
       "    <tr>\n",
       "      <th>IO</th>\n",
       "      <th colspan=\"16\" halign=\"left\">input</th>\n",
       "    </tr>\n",
       "    <tr>\n",
       "      <th>block</th>\n",
       "      <th>MINPAR</th>\n",
       "      <th colspan=\"15\" halign=\"left\">EXTPAR</th>\n",
       "    </tr>\n",
       "    <tr>\n",
       "      <th>code</th>\n",
       "      <th>3</th>\n",
       "      <th>1</th>\n",
       "      <th>2</th>\n",
       "      <th>11</th>\n",
       "      <th>12</th>\n",
       "      <th>13</th>\n",
       "      <th>33</th>\n",
       "      <th>36</th>\n",
       "      <th>43</th>\n",
       "      <th>46</th>\n",
       "      <th>49</th>\n",
       "      <th>61</th>\n",
       "      <th>62</th>\n",
       "      <th>63</th>\n",
       "      <th>64</th>\n",
       "      <th>65</th>\n",
       "    </tr>\n",
       "    <tr>\n",
       "      <th>name</th>\n",
       "      <th>tanB</th>\n",
       "      <th>M1</th>\n",
       "      <th>M2</th>\n",
       "      <th>Atop</th>\n",
       "      <th>Abottom</th>\n",
       "      <th>Atau</th>\n",
       "      <th>MtauL</th>\n",
       "      <th>MtauR</th>\n",
       "      <th>MQ3L</th>\n",
       "      <th>MtopR</th>\n",
       "      <th>MbottomR</th>\n",
       "      <th>Lambda</th>\n",
       "      <th>Kappa</th>\n",
       "      <th>A_Lambda</th>\n",
       "      <th>A_kappa</th>\n",
       "      <th>mu_eff</th>\n",
       "    </tr>\n",
       "  </thead>\n",
       "  <tbody>\n",
       "    <tr>\n",
       "      <th>0</th>\n",
       "      <td>59.985867</td>\n",
       "      <td>845.866684</td>\n",
       "      <td>1719.445144</td>\n",
       "      <td>-4161.774026</td>\n",
       "      <td>-4161.774026</td>\n",
       "      <td>375.777524</td>\n",
       "      <td>375.777524</td>\n",
       "      <td>375.777524</td>\n",
       "      <td>1268.514384</td>\n",
       "      <td>1232.986961</td>\n",
       "      <td>1232.986961</td>\n",
       "      <td>0.055356</td>\n",
       "      <td>0.115755</td>\n",
       "      <td>1742.637466</td>\n",
       "      <td>-252.727847</td>\n",
       "      <td>952.932238</td>\n",
       "    </tr>\n",
       "    <tr>\n",
       "      <th>1</th>\n",
       "      <td>11.713591</td>\n",
       "      <td>353.155245</td>\n",
       "      <td>1665.285809</td>\n",
       "      <td>-1682.684909</td>\n",
       "      <td>-1682.684909</td>\n",
       "      <td>1960.947908</td>\n",
       "      <td>1960.947908</td>\n",
       "      <td>1960.947908</td>\n",
       "      <td>778.638767</td>\n",
       "      <td>1742.871486</td>\n",
       "      <td>1742.871486</td>\n",
       "      <td>0.280382</td>\n",
       "      <td>0.359629</td>\n",
       "      <td>2619.970605</td>\n",
       "      <td>-1889.805681</td>\n",
       "      <td>380.807354</td>\n",
       "    </tr>\n",
       "    <tr>\n",
       "      <th>2</th>\n",
       "      <td>9.658026</td>\n",
       "      <td>437.760545</td>\n",
       "      <td>1010.057880</td>\n",
       "      <td>-369.980587</td>\n",
       "      <td>-369.980587</td>\n",
       "      <td>517.900014</td>\n",
       "      <td>517.900014</td>\n",
       "      <td>517.900014</td>\n",
       "      <td>1493.959787</td>\n",
       "      <td>1391.385076</td>\n",
       "      <td>1391.385076</td>\n",
       "      <td>0.080540</td>\n",
       "      <td>0.196470</td>\n",
       "      <td>-1779.961296</td>\n",
       "      <td>-2787.140714</td>\n",
       "      <td>1426.163650</td>\n",
       "    </tr>\n",
       "  </tbody>\n",
       "</table>\n",
       "</div>"
      ],
      "text/plain": [
       "IO         input                                                     \\\n",
       "block     MINPAR      EXTPAR                                          \n",
       "code          3           1            2            11           12   \n",
       "name        tanB          M1           M2         Atop      Abottom   \n",
       "0      59.985867  845.866684  1719.445144 -4161.774026 -4161.774026   \n",
       "1      11.713591  353.155245  1665.285809 -1682.684909 -1682.684909   \n",
       "2       9.658026  437.760545  1010.057880  -369.980587  -369.980587   \n",
       "\n",
       "IO                                                                      \\\n",
       "block                                                                    \n",
       "code            13           33           36           43           46   \n",
       "name          Atau        MtauL        MtauR         MQ3L        MtopR   \n",
       "0       375.777524   375.777524   375.777524  1268.514384  1232.986961   \n",
       "1      1960.947908  1960.947908  1960.947908   778.638767  1742.871486   \n",
       "2       517.900014   517.900014   517.900014  1493.959787  1391.385076   \n",
       "\n",
       "IO                                                                             \n",
       "block                                                                          \n",
       "code            49        61        62           63           64           65  \n",
       "name      MbottomR    Lambda     Kappa     A_Lambda      A_kappa       mu_eff  \n",
       "0      1232.986961  0.055356  0.115755  1742.637466  -252.727847   952.932238  \n",
       "1      1742.871486  0.280382  0.359629  2619.970605 -1889.805681   380.807354  \n",
       "2      1391.385076  0.080540  0.196470 -1779.961296 -2787.140714  1426.163650  "
      ]
     },
     "execution_count": 41,
     "metadata": {},
     "output_type": "execute_result"
    }
   ],
   "source": [
    "input_data"
   ]
  },
  {
   "cell_type": "code",
   "execution_count": 44,
   "metadata": {},
   "outputs": [
    {
     "data": {
      "text/plain": [
       "Index(['A_Lambda', 'A_kappa', 'Abottom', 'Atau', 'Atop', 'Kappa', 'Lambda',\n",
       "       'M1', 'M2', 'MQ3L', 'MbottomR', 'MtauL', 'MtauR', 'MtopR', 'mu_eff',\n",
       "       'tanB'],\n",
       "      dtype='object', name='name')"
      ]
     },
     "execution_count": 44,
     "metadata": {},
     "output_type": "execute_result"
    }
   ],
   "source": [
    "input_data.columns.levels[3]"
   ]
  },
  {
   "cell_type": "code",
   "execution_count": 52,
   "metadata": {},
   "outputs": [],
   "source": [
    "col_product2=col_product+[('input', 'Decay', 100, 'h1','h1aa')]"
   ]
  },
  {
   "cell_type": "code",
   "execution_count": 53,
   "metadata": {},
   "outputs": [
    {
     "data": {
      "text/plain": [
       "[('input', 'MINPAR', 3, 'tanB'),\n",
       " ('input', 'EXTPAR', 1, 'M1'),\n",
       " ('input', 'EXTPAR', 2, 'M2'),\n",
       " ('input', 'EXTPAR', 11, 'Atop'),\n",
       " ('input', 'EXTPAR', 12, 'Abottom'),\n",
       " ('input', 'EXTPAR', 13, 'Atau'),\n",
       " ('input', 'EXTPAR', 33, 'MtauL'),\n",
       " ('input', 'EXTPAR', 36, 'MtauR'),\n",
       " ('input', 'EXTPAR', 43, 'MQ3L'),\n",
       " ('input', 'EXTPAR', 46, 'MtopR'),\n",
       " ('input', 'EXTPAR', 49, 'MbottomR'),\n",
       " ('input', 'EXTPAR', 61, 'Lambda'),\n",
       " ('input', 'EXTPAR', 62, 'Kappa'),\n",
       " ('input', 'EXTPAR', 63, 'A_Lambda'),\n",
       " ('input', 'EXTPAR', 64, 'A_kappa'),\n",
       " ('input', 'EXTPAR', 65, 'mu_eff'),\n",
       " ('input', 'Decay', 100, 'h1', 'h1aa')]"
      ]
     },
     "execution_count": 53,
     "metadata": {},
     "output_type": "execute_result"
    }
   ],
   "source": [
    "col_product2"
   ]
  },
  {
   "cell_type": "code",
   "execution_count": 59,
   "metadata": {},
   "outputs": [],
   "source": [
    "col2=pandas.MultiIndex.from_tuples(col_product2,names=['IO','block','code','name','Br'])"
   ]
  },
  {
   "cell_type": "code",
   "execution_count": 57,
   "metadata": {},
   "outputs": [
    {
     "data": {
      "text/plain": [
       "Index(['h1aa'], dtype='object', name='Br')"
      ]
     },
     "execution_count": 57,
     "metadata": {},
     "output_type": "execute_result"
    }
   ],
   "source": [
    "col2.levels[4]"
   ]
  },
  {
   "cell_type": "code",
   "execution_count": 110,
   "metadata": {},
   "outputs": [
    {
     "data": {
      "text/plain": [
       "Index(['MINPAR', 'EXTPAR', 'EXTPAR', 'EXTPAR', 'EXTPAR', 'EXTPAR', 'EXTPAR',\n",
       "       'EXTPAR', 'EXTPAR', 'EXTPAR', 'EXTPAR', 'EXTPAR', 'EXTPAR', 'EXTPAR',\n",
       "       'EXTPAR', 'EXTPAR', 'Decay'],\n",
       "      dtype='object', name='block')"
      ]
     },
     "execution_count": 110,
     "metadata": {},
     "output_type": "execute_result"
    }
   ],
   "source": [
    "col2.get_level_values(1)"
   ]
  },
  {
   "cell_type": "code",
   "execution_count": 102,
   "metadata": {},
   "outputs": [],
   "source": [
    "DF=pandas.DataFrame()"
   ]
  },
  {
   "cell_type": "code",
   "execution_count": 103,
   "metadata": {},
   "outputs": [],
   "source": [
    "DF=DF.append(input_data,ignore_index=True)"
   ]
  },
  {
   "cell_type": "code",
   "execution_count": 105,
   "metadata": {},
   "outputs": [
    {
     "data": {
      "text/html": [
       "<div>\n",
       "<style scoped>\n",
       "    .dataframe tbody tr th:only-of-type {\n",
       "        vertical-align: middle;\n",
       "    }\n",
       "\n",
       "    .dataframe tbody tr th {\n",
       "        vertical-align: top;\n",
       "    }\n",
       "\n",
       "    .dataframe thead tr th {\n",
       "        text-align: left;\n",
       "    }\n",
       "</style>\n",
       "<table border=\"1\" class=\"dataframe\">\n",
       "  <thead>\n",
       "    <tr>\n",
       "      <th>IO</th>\n",
       "      <th colspan=\"16\" halign=\"left\">input</th>\n",
       "    </tr>\n",
       "    <tr>\n",
       "      <th>block</th>\n",
       "      <th>MINPAR</th>\n",
       "      <th colspan=\"15\" halign=\"left\">EXTPAR</th>\n",
       "    </tr>\n",
       "    <tr>\n",
       "      <th>code</th>\n",
       "      <th>3</th>\n",
       "      <th>1</th>\n",
       "      <th>2</th>\n",
       "      <th>11</th>\n",
       "      <th>12</th>\n",
       "      <th>13</th>\n",
       "      <th>33</th>\n",
       "      <th>36</th>\n",
       "      <th>43</th>\n",
       "      <th>46</th>\n",
       "      <th>49</th>\n",
       "      <th>61</th>\n",
       "      <th>62</th>\n",
       "      <th>63</th>\n",
       "      <th>64</th>\n",
       "      <th>65</th>\n",
       "    </tr>\n",
       "    <tr>\n",
       "      <th>name</th>\n",
       "      <th>tanB</th>\n",
       "      <th>M1</th>\n",
       "      <th>M2</th>\n",
       "      <th>Atop</th>\n",
       "      <th>Abottom</th>\n",
       "      <th>Atau</th>\n",
       "      <th>MtauL</th>\n",
       "      <th>MtauR</th>\n",
       "      <th>MQ3L</th>\n",
       "      <th>MtopR</th>\n",
       "      <th>MbottomR</th>\n",
       "      <th>Lambda</th>\n",
       "      <th>Kappa</th>\n",
       "      <th>A_Lambda</th>\n",
       "      <th>A_kappa</th>\n",
       "      <th>mu_eff</th>\n",
       "    </tr>\n",
       "  </thead>\n",
       "  <tbody>\n",
       "    <tr>\n",
       "      <th>0</th>\n",
       "      <td>59.985867</td>\n",
       "      <td>845.866684</td>\n",
       "      <td>1719.445144</td>\n",
       "      <td>-4161.774026</td>\n",
       "      <td>-4161.774026</td>\n",
       "      <td>375.777524</td>\n",
       "      <td>375.777524</td>\n",
       "      <td>375.777524</td>\n",
       "      <td>1268.514384</td>\n",
       "      <td>1232.986961</td>\n",
       "      <td>1232.986961</td>\n",
       "      <td>0.055356</td>\n",
       "      <td>0.115755</td>\n",
       "      <td>1742.637466</td>\n",
       "      <td>-252.727847</td>\n",
       "      <td>952.932238</td>\n",
       "    </tr>\n",
       "    <tr>\n",
       "      <th>1</th>\n",
       "      <td>11.713591</td>\n",
       "      <td>353.155245</td>\n",
       "      <td>1665.285809</td>\n",
       "      <td>-1682.684909</td>\n",
       "      <td>-1682.684909</td>\n",
       "      <td>1960.947908</td>\n",
       "      <td>1960.947908</td>\n",
       "      <td>1960.947908</td>\n",
       "      <td>778.638767</td>\n",
       "      <td>1742.871486</td>\n",
       "      <td>1742.871486</td>\n",
       "      <td>0.280382</td>\n",
       "      <td>0.359629</td>\n",
       "      <td>2619.970605</td>\n",
       "      <td>-1889.805681</td>\n",
       "      <td>380.807354</td>\n",
       "    </tr>\n",
       "    <tr>\n",
       "      <th>2</th>\n",
       "      <td>9.658026</td>\n",
       "      <td>437.760545</td>\n",
       "      <td>1010.057880</td>\n",
       "      <td>-369.980587</td>\n",
       "      <td>-369.980587</td>\n",
       "      <td>517.900014</td>\n",
       "      <td>517.900014</td>\n",
       "      <td>517.900014</td>\n",
       "      <td>1493.959787</td>\n",
       "      <td>1391.385076</td>\n",
       "      <td>1391.385076</td>\n",
       "      <td>0.080540</td>\n",
       "      <td>0.196470</td>\n",
       "      <td>-1779.961296</td>\n",
       "      <td>-2787.140714</td>\n",
       "      <td>1426.163650</td>\n",
       "    </tr>\n",
       "  </tbody>\n",
       "</table>\n",
       "</div>"
      ],
      "text/plain": [
       "IO         input                                                     \\\n",
       "block     MINPAR      EXTPAR                                          \n",
       "code          3           1            2            11           12   \n",
       "name        tanB          M1           M2         Atop      Abottom   \n",
       "0      59.985867  845.866684  1719.445144 -4161.774026 -4161.774026   \n",
       "1      11.713591  353.155245  1665.285809 -1682.684909 -1682.684909   \n",
       "2       9.658026  437.760545  1010.057880  -369.980587  -369.980587   \n",
       "\n",
       "IO                                                                      \\\n",
       "block                                                                    \n",
       "code            13           33           36           43           46   \n",
       "name          Atau        MtauL        MtauR         MQ3L        MtopR   \n",
       "0       375.777524   375.777524   375.777524  1268.514384  1232.986961   \n",
       "1      1960.947908  1960.947908  1960.947908   778.638767  1742.871486   \n",
       "2       517.900014   517.900014   517.900014  1493.959787  1391.385076   \n",
       "\n",
       "IO                                                                             \n",
       "block                                                                          \n",
       "code            49        61        62           63           64           65  \n",
       "name      MbottomR    Lambda     Kappa     A_Lambda      A_kappa       mu_eff  \n",
       "0      1232.986961  0.055356  0.115755  1742.637466  -252.727847   952.932238  \n",
       "1      1742.871486  0.280382  0.359629  2619.970605 -1889.805681   380.807354  \n",
       "2      1391.385076  0.080540  0.196470 -1779.961296 -2787.140714  1426.163650  "
      ]
     },
     "execution_count": 105,
     "metadata": {},
     "output_type": "execute_result"
    }
   ],
   "source": [
    "DF"
   ]
  },
  {
   "cell_type": "code",
   "execution_count": 106,
   "metadata": {},
   "outputs": [],
   "source": [
    "DF[('ds',2,None,None)]=12"
   ]
  },
  {
   "cell_type": "code",
   "execution_count": 107,
   "metadata": {},
   "outputs": [
    {
     "data": {
      "text/html": [
       "<div>\n",
       "<style scoped>\n",
       "    .dataframe tbody tr th:only-of-type {\n",
       "        vertical-align: middle;\n",
       "    }\n",
       "\n",
       "    .dataframe tbody tr th {\n",
       "        vertical-align: top;\n",
       "    }\n",
       "\n",
       "    .dataframe thead tr th {\n",
       "        text-align: left;\n",
       "    }\n",
       "</style>\n",
       "<table border=\"1\" class=\"dataframe\">\n",
       "  <thead>\n",
       "    <tr>\n",
       "      <th>IO</th>\n",
       "      <th colspan=\"16\" halign=\"left\">input</th>\n",
       "      <th>ds</th>\n",
       "    </tr>\n",
       "    <tr>\n",
       "      <th>block</th>\n",
       "      <th>MINPAR</th>\n",
       "      <th colspan=\"15\" halign=\"left\">EXTPAR</th>\n",
       "      <th>2</th>\n",
       "    </tr>\n",
       "    <tr>\n",
       "      <th>code</th>\n",
       "      <th>3</th>\n",
       "      <th>1</th>\n",
       "      <th>2</th>\n",
       "      <th>11</th>\n",
       "      <th>12</th>\n",
       "      <th>13</th>\n",
       "      <th>33</th>\n",
       "      <th>36</th>\n",
       "      <th>43</th>\n",
       "      <th>46</th>\n",
       "      <th>49</th>\n",
       "      <th>61</th>\n",
       "      <th>62</th>\n",
       "      <th>63</th>\n",
       "      <th>64</th>\n",
       "      <th>65</th>\n",
       "      <th>NaN</th>\n",
       "    </tr>\n",
       "    <tr>\n",
       "      <th>name</th>\n",
       "      <th>tanB</th>\n",
       "      <th>M1</th>\n",
       "      <th>M2</th>\n",
       "      <th>Atop</th>\n",
       "      <th>Abottom</th>\n",
       "      <th>Atau</th>\n",
       "      <th>MtauL</th>\n",
       "      <th>MtauR</th>\n",
       "      <th>MQ3L</th>\n",
       "      <th>MtopR</th>\n",
       "      <th>MbottomR</th>\n",
       "      <th>Lambda</th>\n",
       "      <th>Kappa</th>\n",
       "      <th>A_Lambda</th>\n",
       "      <th>A_kappa</th>\n",
       "      <th>mu_eff</th>\n",
       "      <th>NaN</th>\n",
       "    </tr>\n",
       "  </thead>\n",
       "  <tbody>\n",
       "    <tr>\n",
       "      <th>0</th>\n",
       "      <td>59.985867</td>\n",
       "      <td>845.866684</td>\n",
       "      <td>1719.445144</td>\n",
       "      <td>-4161.774026</td>\n",
       "      <td>-4161.774026</td>\n",
       "      <td>375.777524</td>\n",
       "      <td>375.777524</td>\n",
       "      <td>375.777524</td>\n",
       "      <td>1268.514384</td>\n",
       "      <td>1232.986961</td>\n",
       "      <td>1232.986961</td>\n",
       "      <td>0.055356</td>\n",
       "      <td>0.115755</td>\n",
       "      <td>1742.637466</td>\n",
       "      <td>-252.727847</td>\n",
       "      <td>952.932238</td>\n",
       "      <td>12</td>\n",
       "    </tr>\n",
       "    <tr>\n",
       "      <th>1</th>\n",
       "      <td>11.713591</td>\n",
       "      <td>353.155245</td>\n",
       "      <td>1665.285809</td>\n",
       "      <td>-1682.684909</td>\n",
       "      <td>-1682.684909</td>\n",
       "      <td>1960.947908</td>\n",
       "      <td>1960.947908</td>\n",
       "      <td>1960.947908</td>\n",
       "      <td>778.638767</td>\n",
       "      <td>1742.871486</td>\n",
       "      <td>1742.871486</td>\n",
       "      <td>0.280382</td>\n",
       "      <td>0.359629</td>\n",
       "      <td>2619.970605</td>\n",
       "      <td>-1889.805681</td>\n",
       "      <td>380.807354</td>\n",
       "      <td>12</td>\n",
       "    </tr>\n",
       "    <tr>\n",
       "      <th>2</th>\n",
       "      <td>9.658026</td>\n",
       "      <td>437.760545</td>\n",
       "      <td>1010.057880</td>\n",
       "      <td>-369.980587</td>\n",
       "      <td>-369.980587</td>\n",
       "      <td>517.900014</td>\n",
       "      <td>517.900014</td>\n",
       "      <td>517.900014</td>\n",
       "      <td>1493.959787</td>\n",
       "      <td>1391.385076</td>\n",
       "      <td>1391.385076</td>\n",
       "      <td>0.080540</td>\n",
       "      <td>0.196470</td>\n",
       "      <td>-1779.961296</td>\n",
       "      <td>-2787.140714</td>\n",
       "      <td>1426.163650</td>\n",
       "      <td>12</td>\n",
       "    </tr>\n",
       "  </tbody>\n",
       "</table>\n",
       "</div>"
      ],
      "text/plain": [
       "IO         input                                                     \\\n",
       "block     MINPAR      EXTPAR                                          \n",
       "code           3           1            2           11           12   \n",
       "name        tanB          M1           M2         Atop      Abottom   \n",
       "0      59.985867  845.866684  1719.445144 -4161.774026 -4161.774026   \n",
       "1      11.713591  353.155245  1665.285809 -1682.684909 -1682.684909   \n",
       "2       9.658026  437.760545  1010.057880  -369.980587  -369.980587   \n",
       "\n",
       "IO                                                                      \\\n",
       "block                                                                    \n",
       "code            13           33           36           43           46   \n",
       "name          Atau        MtauL        MtauR         MQ3L        MtopR   \n",
       "0       375.777524   375.777524   375.777524  1268.514384  1232.986961   \n",
       "1      1960.947908  1960.947908  1960.947908   778.638767  1742.871486   \n",
       "2       517.900014   517.900014   517.900014  1493.959787  1391.385076   \n",
       "\n",
       "IO                                                                             \\\n",
       "block                                                                           \n",
       "code            49        61        62           63           64           65   \n",
       "name      MbottomR    Lambda     Kappa     A_Lambda      A_kappa       mu_eff   \n",
       "0      1232.986961  0.055356  0.115755  1742.637466  -252.727847   952.932238   \n",
       "1      1742.871486  0.280382  0.359629  2619.970605 -1889.805681   380.807354   \n",
       "2      1391.385076  0.080540  0.196470 -1779.961296 -2787.140714  1426.163650   \n",
       "\n",
       "IO     ds  \n",
       "block   2  \n",
       "code  NaN  \n",
       "name  NaN  \n",
       "0      12  \n",
       "1      12  \n",
       "2      12  "
      ]
     },
     "execution_count": 107,
     "metadata": {},
     "output_type": "execute_result"
    }
   ],
   "source": [
    "DF"
   ]
  },
  {
   "cell_type": "code",
   "execution_count": 88,
   "metadata": {},
   "outputs": [
    {
     "data": {
      "text/plain": [
       "17"
      ]
     },
     "execution_count": 88,
     "metadata": {},
     "output_type": "execute_result"
    }
   ],
   "source": [
    "len(col_product2)"
   ]
  },
  {
   "cell_type": "code",
   "execution_count": 91,
   "metadata": {},
   "outputs": [
    {
     "data": {
      "text/plain": [
       "array([[-0.55597185, -0.45821742, -1.17535627,  0.07952261,  0.77394749,\n",
       "        -0.42754938, -0.98206815,  0.03671397, -0.02252014, -0.99296507,\n",
       "        -0.42713065,  0.85163299,  0.12760487,  0.13079707, -0.05218838,\n",
       "        -1.47665397,  0.18241558]])"
      ]
     },
     "execution_count": 91,
     "metadata": {},
     "output_type": "execute_result"
    }
   ],
   "source": [
    "numpy.random.randn(1,17)"
   ]
  },
  {
   "cell_type": "code",
   "execution_count": 93,
   "metadata": {},
   "outputs": [],
   "source": [
    "data2=pandas.DataFrame(_,columns=col2)"
   ]
  },
  {
   "cell_type": "code",
   "execution_count": 94,
   "metadata": {},
   "outputs": [
    {
     "data": {
      "text/html": [
       "<div>\n",
       "<style scoped>\n",
       "    .dataframe tbody tr th:only-of-type {\n",
       "        vertical-align: middle;\n",
       "    }\n",
       "\n",
       "    .dataframe tbody tr th {\n",
       "        vertical-align: top;\n",
       "    }\n",
       "\n",
       "    .dataframe thead tr th {\n",
       "        text-align: left;\n",
       "    }\n",
       "</style>\n",
       "<table border=\"1\" class=\"dataframe\">\n",
       "  <thead>\n",
       "    <tr>\n",
       "      <th>IO</th>\n",
       "      <th colspan=\"17\" halign=\"left\">input</th>\n",
       "    </tr>\n",
       "    <tr>\n",
       "      <th>block</th>\n",
       "      <th>MINPAR</th>\n",
       "      <th colspan=\"15\" halign=\"left\">EXTPAR</th>\n",
       "      <th>Decay</th>\n",
       "    </tr>\n",
       "    <tr>\n",
       "      <th>code</th>\n",
       "      <th>3</th>\n",
       "      <th>1</th>\n",
       "      <th>2</th>\n",
       "      <th>11</th>\n",
       "      <th>12</th>\n",
       "      <th>13</th>\n",
       "      <th>33</th>\n",
       "      <th>36</th>\n",
       "      <th>43</th>\n",
       "      <th>46</th>\n",
       "      <th>49</th>\n",
       "      <th>61</th>\n",
       "      <th>62</th>\n",
       "      <th>63</th>\n",
       "      <th>64</th>\n",
       "      <th>65</th>\n",
       "      <th>100</th>\n",
       "    </tr>\n",
       "    <tr>\n",
       "      <th>name</th>\n",
       "      <th>tanB</th>\n",
       "      <th>M1</th>\n",
       "      <th>M2</th>\n",
       "      <th>Atop</th>\n",
       "      <th>Abottom</th>\n",
       "      <th>Atau</th>\n",
       "      <th>MtauL</th>\n",
       "      <th>MtauR</th>\n",
       "      <th>MQ3L</th>\n",
       "      <th>MtopR</th>\n",
       "      <th>MbottomR</th>\n",
       "      <th>Lambda</th>\n",
       "      <th>Kappa</th>\n",
       "      <th>A_Lambda</th>\n",
       "      <th>A_kappa</th>\n",
       "      <th>mu_eff</th>\n",
       "      <th>h1</th>\n",
       "    </tr>\n",
       "    <tr>\n",
       "      <th>Br</th>\n",
       "      <th>NaN</th>\n",
       "      <th>NaN</th>\n",
       "      <th>NaN</th>\n",
       "      <th>NaN</th>\n",
       "      <th>NaN</th>\n",
       "      <th>NaN</th>\n",
       "      <th>NaN</th>\n",
       "      <th>NaN</th>\n",
       "      <th>NaN</th>\n",
       "      <th>NaN</th>\n",
       "      <th>NaN</th>\n",
       "      <th>NaN</th>\n",
       "      <th>NaN</th>\n",
       "      <th>NaN</th>\n",
       "      <th>NaN</th>\n",
       "      <th>NaN</th>\n",
       "      <th>h1aa</th>\n",
       "    </tr>\n",
       "  </thead>\n",
       "  <tbody>\n",
       "    <tr>\n",
       "      <th>0</th>\n",
       "      <td>-0.555972</td>\n",
       "      <td>-0.458217</td>\n",
       "      <td>-1.175356</td>\n",
       "      <td>0.079523</td>\n",
       "      <td>0.773947</td>\n",
       "      <td>-0.427549</td>\n",
       "      <td>-0.982068</td>\n",
       "      <td>0.036714</td>\n",
       "      <td>-0.02252</td>\n",
       "      <td>-0.992965</td>\n",
       "      <td>-0.427131</td>\n",
       "      <td>0.851633</td>\n",
       "      <td>0.127605</td>\n",
       "      <td>0.130797</td>\n",
       "      <td>-0.052188</td>\n",
       "      <td>-1.476654</td>\n",
       "      <td>0.182416</td>\n",
       "    </tr>\n",
       "  </tbody>\n",
       "</table>\n",
       "</div>"
      ],
      "text/plain": [
       "IO        input                                                              \\\n",
       "block    MINPAR    EXTPAR                                                     \n",
       "code        3         1         2         11        12        13        33    \n",
       "name       tanB        M1        M2      Atop   Abottom      Atau     MtauL   \n",
       "Br          NaN       NaN       NaN       NaN       NaN       NaN       NaN   \n",
       "0     -0.555972 -0.458217 -1.175356  0.079523  0.773947 -0.427549 -0.982068   \n",
       "\n",
       "IO                                                                          \\\n",
       "block                                                                        \n",
       "code        36       43        46        49        61        62        63    \n",
       "name      MtauR     MQ3L     MtopR  MbottomR    Lambda     Kappa  A_Lambda   \n",
       "Br          NaN      NaN       NaN       NaN       NaN       NaN       NaN   \n",
       "0      0.036714 -0.02252 -0.992965 -0.427131  0.851633  0.127605  0.130797   \n",
       "\n",
       "IO                                   \n",
       "block                         Decay  \n",
       "code        64        65        100  \n",
       "name    A_kappa    mu_eff        h1  \n",
       "Br          NaN       NaN      h1aa  \n",
       "0     -0.052188 -1.476654  0.182416  "
      ]
     },
     "execution_count": 94,
     "metadata": {},
     "output_type": "execute_result"
    }
   ],
   "source": [
    "data2"
   ]
  },
  {
   "cell_type": "code",
   "execution_count": 150,
   "metadata": {},
   "outputs": [],
   "source": [
    "def InputToPandas(*point_list,order=input_parameter_list):\n",
    "    PL=FlatList(point_list)\n",
    "    flags=[(type(point) is scan) for point in PL]\n",
    "    if not all([type(point) is scan for point in PL]):\n",
    "        print(flags)\n",
    "        Error('wrong type when interpreting input data into Pandas')\n",
    "    else:\n",
    "        par_array=[]\n",
    "        for point in PL:\n",
    "            array_row=[]\n",
    "            for name in order:\n",
    "                array_row.append(point.scalar_list[name]())\n",
    "            par_array.append(array_row)\n",
    "\n",
    "        col=pandas.MultiIndex.from_tuples(\n",
    "            [tuple(['input',par.block,par.code,par.name])\n",
    "                for par in [point.scalar_list[n] for n in order]\n",
    "            ],\n",
    "            names=['title','block','code','name']\n",
    "        )\n",
    "        \n",
    "        DF=pandas.DataFrame(numpy.array(par_array),columns=col)\n",
    "        return DF"
   ]
  },
  {
   "cell_type": "code",
   "execution_count": 151,
   "metadata": {},
   "outputs": [
    {
     "data": {
      "text/html": [
       "<div>\n",
       "<style scoped>\n",
       "    .dataframe tbody tr th:only-of-type {\n",
       "        vertical-align: middle;\n",
       "    }\n",
       "\n",
       "    .dataframe tbody tr th {\n",
       "        vertical-align: top;\n",
       "    }\n",
       "\n",
       "    .dataframe thead tr th {\n",
       "        text-align: left;\n",
       "    }\n",
       "</style>\n",
       "<table border=\"1\" class=\"dataframe\">\n",
       "  <thead>\n",
       "    <tr>\n",
       "      <th>title</th>\n",
       "      <th colspan=\"12\" halign=\"left\">input</th>\n",
       "    </tr>\n",
       "    <tr>\n",
       "      <th>block</th>\n",
       "      <th>MINPAR</th>\n",
       "      <th colspan=\"11\" halign=\"left\">EXTPAR</th>\n",
       "    </tr>\n",
       "    <tr>\n",
       "      <th>code</th>\n",
       "      <th>3</th>\n",
       "      <th>1</th>\n",
       "      <th>2</th>\n",
       "      <th>11</th>\n",
       "      <th>13</th>\n",
       "      <th>43</th>\n",
       "      <th>46</th>\n",
       "      <th>61</th>\n",
       "      <th>62</th>\n",
       "      <th>63</th>\n",
       "      <th>64</th>\n",
       "      <th>65</th>\n",
       "    </tr>\n",
       "    <tr>\n",
       "      <th>name</th>\n",
       "      <th>tanB</th>\n",
       "      <th>M1</th>\n",
       "      <th>M2</th>\n",
       "      <th>Atop</th>\n",
       "      <th>Atau</th>\n",
       "      <th>MQ3L</th>\n",
       "      <th>MtopR</th>\n",
       "      <th>Lambda</th>\n",
       "      <th>Kappa</th>\n",
       "      <th>A_Lambda</th>\n",
       "      <th>A_kappa</th>\n",
       "      <th>mu_eff</th>\n",
       "    </tr>\n",
       "  </thead>\n",
       "  <tbody>\n",
       "    <tr>\n",
       "      <th>0</th>\n",
       "      <td>59.985867</td>\n",
       "      <td>845.866684</td>\n",
       "      <td>1719.445144</td>\n",
       "      <td>-4161.774026</td>\n",
       "      <td>375.777524</td>\n",
       "      <td>1268.514384</td>\n",
       "      <td>1232.986961</td>\n",
       "      <td>0.055356</td>\n",
       "      <td>0.115755</td>\n",
       "      <td>1742.637466</td>\n",
       "      <td>-252.727847</td>\n",
       "      <td>952.932238</td>\n",
       "    </tr>\n",
       "    <tr>\n",
       "      <th>1</th>\n",
       "      <td>11.713591</td>\n",
       "      <td>353.155245</td>\n",
       "      <td>1665.285809</td>\n",
       "      <td>-1682.684909</td>\n",
       "      <td>1960.947908</td>\n",
       "      <td>778.638767</td>\n",
       "      <td>1742.871486</td>\n",
       "      <td>0.280382</td>\n",
       "      <td>0.359629</td>\n",
       "      <td>2619.970605</td>\n",
       "      <td>-1889.805681</td>\n",
       "      <td>380.807354</td>\n",
       "    </tr>\n",
       "    <tr>\n",
       "      <th>2</th>\n",
       "      <td>9.658026</td>\n",
       "      <td>437.760545</td>\n",
       "      <td>1010.057880</td>\n",
       "      <td>-369.980587</td>\n",
       "      <td>517.900014</td>\n",
       "      <td>1493.959787</td>\n",
       "      <td>1391.385076</td>\n",
       "      <td>0.080540</td>\n",
       "      <td>0.196470</td>\n",
       "      <td>-1779.961296</td>\n",
       "      <td>-2787.140714</td>\n",
       "      <td>1426.163650</td>\n",
       "    </tr>\n",
       "    <tr>\n",
       "      <th>3</th>\n",
       "      <td>59.985867</td>\n",
       "      <td>845.866684</td>\n",
       "      <td>1719.445144</td>\n",
       "      <td>-4161.774026</td>\n",
       "      <td>375.777524</td>\n",
       "      <td>1268.514384</td>\n",
       "      <td>1232.986961</td>\n",
       "      <td>0.055356</td>\n",
       "      <td>0.115755</td>\n",
       "      <td>1742.637466</td>\n",
       "      <td>-252.727847</td>\n",
       "      <td>952.932238</td>\n",
       "    </tr>\n",
       "    <tr>\n",
       "      <th>4</th>\n",
       "      <td>11.713591</td>\n",
       "      <td>353.155245</td>\n",
       "      <td>1665.285809</td>\n",
       "      <td>-1682.684909</td>\n",
       "      <td>1960.947908</td>\n",
       "      <td>778.638767</td>\n",
       "      <td>1742.871486</td>\n",
       "      <td>0.280382</td>\n",
       "      <td>0.359629</td>\n",
       "      <td>2619.970605</td>\n",
       "      <td>-1889.805681</td>\n",
       "      <td>380.807354</td>\n",
       "    </tr>\n",
       "    <tr>\n",
       "      <th>5</th>\n",
       "      <td>9.658026</td>\n",
       "      <td>437.760545</td>\n",
       "      <td>1010.057880</td>\n",
       "      <td>-369.980587</td>\n",
       "      <td>517.900014</td>\n",
       "      <td>1493.959787</td>\n",
       "      <td>1391.385076</td>\n",
       "      <td>0.080540</td>\n",
       "      <td>0.196470</td>\n",
       "      <td>-1779.961296</td>\n",
       "      <td>-2787.140714</td>\n",
       "      <td>1426.163650</td>\n",
       "    </tr>\n",
       "  </tbody>\n",
       "</table>\n",
       "</div>"
      ],
      "text/plain": [
       "title      input                                                     \\\n",
       "block     MINPAR      EXTPAR                                          \n",
       "code          3           1            2            11           13   \n",
       "name        tanB          M1           M2         Atop         Atau   \n",
       "0      59.985867  845.866684  1719.445144 -4161.774026   375.777524   \n",
       "1      11.713591  353.155245  1665.285809 -1682.684909  1960.947908   \n",
       "2       9.658026  437.760545  1010.057880  -369.980587   517.900014   \n",
       "3      59.985867  845.866684  1719.445144 -4161.774026   375.777524   \n",
       "4      11.713591  353.155245  1665.285809 -1682.684909  1960.947908   \n",
       "5       9.658026  437.760545  1010.057880  -369.980587   517.900014   \n",
       "\n",
       "title                                                                          \\\n",
       "block                                                                           \n",
       "code            43           46        61        62           63           64   \n",
       "name          MQ3L        MtopR    Lambda     Kappa     A_Lambda      A_kappa   \n",
       "0      1268.514384  1232.986961  0.055356  0.115755  1742.637466  -252.727847   \n",
       "1       778.638767  1742.871486  0.280382  0.359629  2619.970605 -1889.805681   \n",
       "2      1493.959787  1391.385076  0.080540  0.196470 -1779.961296 -2787.140714   \n",
       "3      1268.514384  1232.986961  0.055356  0.115755  1742.637466  -252.727847   \n",
       "4       778.638767  1742.871486  0.280382  0.359629  2619.970605 -1889.805681   \n",
       "5      1493.959787  1391.385076  0.080540  0.196470 -1779.961296 -2787.140714   \n",
       "\n",
       "title               \n",
       "block               \n",
       "code            65  \n",
       "name        mu_eff  \n",
       "0       952.932238  \n",
       "1       380.807354  \n",
       "2      1426.163650  \n",
       "3       952.932238  \n",
       "4       380.807354  \n",
       "5      1426.163650  "
      ]
     },
     "execution_count": 151,
     "metadata": {},
     "output_type": "execute_result"
    }
   ],
   "source": [
    "InputToPandas(acc,acc)"
   ]
  },
  {
   "cell_type": "code",
   "execution_count": 153,
   "metadata": {},
   "outputs": [
    {
     "data": {
      "text/plain": [
       "array([[  5.99858673e+01,   8.45866684e+02,   1.71944514e+03,\n",
       "         -4.16177403e+03,   3.75777524e+02,   1.26851438e+03,\n",
       "          1.23298696e+03,   5.53560123e-02,   1.15754580e-01,\n",
       "          1.74263747e+03,  -2.52727847e+02,   9.52932238e+02],\n",
       "       [  1.17135915e+01,   3.53155245e+02,   1.66528581e+03,\n",
       "         -1.68268491e+03,   1.96094791e+03,   7.78638767e+02,\n",
       "          1.74287149e+03,   2.80381756e-01,   3.59629492e-01,\n",
       "          2.61997061e+03,  -1.88980568e+03,   3.80807354e+02],\n",
       "       [  9.65802579e+00,   4.37760545e+02,   1.01005788e+03,\n",
       "         -3.69980587e+02,   5.17900014e+02,   1.49395979e+03,\n",
       "          1.39138508e+03,   8.05396610e-02,   1.96470149e-01,\n",
       "         -1.77996130e+03,  -2.78714071e+03,   1.42616365e+03],\n",
       "       [  5.99858673e+01,   8.45866684e+02,   1.71944514e+03,\n",
       "         -4.16177403e+03,   3.75777524e+02,   1.26851438e+03,\n",
       "          1.23298696e+03,   5.53560123e-02,   1.15754580e-01,\n",
       "          1.74263747e+03,  -2.52727847e+02,   9.52932238e+02],\n",
       "       [  1.17135915e+01,   3.53155245e+02,   1.66528581e+03,\n",
       "         -1.68268491e+03,   1.96094791e+03,   7.78638767e+02,\n",
       "          1.74287149e+03,   2.80381756e-01,   3.59629492e-01,\n",
       "          2.61997061e+03,  -1.88980568e+03,   3.80807354e+02],\n",
       "       [  9.65802579e+00,   4.37760545e+02,   1.01005788e+03,\n",
       "         -3.69980587e+02,   5.17900014e+02,   1.49395979e+03,\n",
       "          1.39138508e+03,   8.05396610e-02,   1.96470149e-01,\n",
       "         -1.77996130e+03,  -2.78714071e+03,   1.42616365e+03]])"
      ]
     },
     "execution_count": 153,
     "metadata": {},
     "output_type": "execute_result"
    }
   ],
   "source": [
    "_.values"
   ]
  },
  {
   "cell_type": "code",
   "execution_count": 154,
   "metadata": {},
   "outputs": [
    {
     "name": "stdout",
     "output_type": "stream",
     "text": [
      "[  5.99858673e+01   8.45866684e+02   1.71944514e+03  -4.16177403e+03\n",
      "   3.75777524e+02   1.26851438e+03   1.23298696e+03   5.53560123e-02\n",
      "   1.15754580e-01   1.74263747e+03  -2.52727847e+02   9.52932238e+02]\n",
      "[  1.17135915e+01   3.53155245e+02   1.66528581e+03  -1.68268491e+03\n",
      "   1.96094791e+03   7.78638767e+02   1.74287149e+03   2.80381756e-01\n",
      "   3.59629492e-01   2.61997061e+03  -1.88980568e+03   3.80807354e+02]\n",
      "[  9.65802579e+00   4.37760545e+02   1.01005788e+03  -3.69980587e+02\n",
      "   5.17900014e+02   1.49395979e+03   1.39138508e+03   8.05396610e-02\n",
      "   1.96470149e-01  -1.77996130e+03  -2.78714071e+03   1.42616365e+03]\n",
      "[  5.99858673e+01   8.45866684e+02   1.71944514e+03  -4.16177403e+03\n",
      "   3.75777524e+02   1.26851438e+03   1.23298696e+03   5.53560123e-02\n",
      "   1.15754580e-01   1.74263747e+03  -2.52727847e+02   9.52932238e+02]\n",
      "[  1.17135915e+01   3.53155245e+02   1.66528581e+03  -1.68268491e+03\n",
      "   1.96094791e+03   7.78638767e+02   1.74287149e+03   2.80381756e-01\n",
      "   3.59629492e-01   2.61997061e+03  -1.88980568e+03   3.80807354e+02]\n",
      "[  9.65802579e+00   4.37760545e+02   1.01005788e+03  -3.69980587e+02\n",
      "   5.17900014e+02   1.49395979e+03   1.39138508e+03   8.05396610e-02\n",
      "   1.96470149e-01  -1.77996130e+03  -2.78714071e+03   1.42616365e+03]\n"
     ]
    }
   ],
   "source": [
    "for i in _:\n",
    "    print(i)"
   ]
  },
  {
   "cell_type": "code",
   "execution_count": null,
   "metadata": {},
   "outputs": [],
   "source": []
  }
 ],
 "metadata": {
  "kernelspec": {
   "display_name": "Python 3",
   "language": "python",
   "name": "python3"
  },
  "language_info": {
   "codemirror_mode": {
    "name": "ipython",
    "version": 3
   },
   "file_extension": ".py",
   "mimetype": "text/x-python",
   "name": "python",
   "nbconvert_exporter": "python",
   "pygments_lexer": "ipython3",
   "version": "3.6.3"
  }
 },
 "nbformat": 4,
 "nbformat_minor": 2
}
